{
 "metadata": {
  "name": "",
  "signature": "sha256:b8b255e738078b22d8f0d0f73c5cba7232c8e592f32e2e13e9b26b2f03e1ca0a"
 },
 "nbformat": 3,
 "nbformat_minor": 0,
 "worksheets": [
  {
   "cells": [
    {
     "cell_type": "markdown",
     "metadata": {},
     "source": [
      "**Course website**: http://www.leouieda.com/geofisica1\n",
      "\n",
      "**Note**: This notebook is part of the course \"Geof\u00edsica 1\" of Geology program of the \n",
      "[Universidade do Estado do Rio de Janeiro](http://www.uerj.br/). \n",
      "All content can be freely used and adapted under the terms of the \n",
      "[Creative Commons Attribution 4.0 International License](http://creativecommons.org/licenses/by/4.0/).\n",
      "\n",
      "![Creative Commons License](https://i.creativecommons.org/l/by/4.0/88x31.png)"
     ]
    },
    {
     "cell_type": "markdown",
     "metadata": {},
     "source": [
      "# Pr\u00e1tica 5 - Modelagem direta para testar hip\u00f3teses\n",
      "\n",
      "Objetivos:\n",
      "\n",
      "* Entender o que \u00e9 e qual \u00e9 o objetivo da modelagem direta.\n",
      "* Aprender como testar uma hip\u00f3tese geol\u00f3gica com dados geof\u00edsicos.\n",
      "* Ilustrar a import\u00e2ncia de testes com dados sint\u00e9ticos.\n",
      "* Aprender na pr\u00e1tica o significado de falta de unicidade."
     ]
    },
    {
     "cell_type": "markdown",
     "metadata": {},
     "source": [
      "## Prepara\u00e7\u00e3o\n",
      "\n",
      "Esse documento que voc\u00ea est\u00e1 usando \u00e9 um [IPython notebook](http://ipython.org/notebook.html).\n",
      "\n",
      "Esta pr\u00e1tica usar\u00e1 a biblioteca [Fatiando a Terra](http://fatiando.org). Vamos usar modelagem direta interativa da classe `Moulder`. Para isso, precisamos carregar (`import`) o `Moulder` e tamb\u00e9m o m\u00f3dulo num\u00e9rico [numpy](http://www.numpy.org/)."
     ]
    },
    {
     "cell_type": "code",
     "collapsed": false,
     "input": [
      "from __future__ import division\n",
      "from fatiando.gui.simple import Moulder\n",
      "import fatiando\n",
      "import numpy as np"
     ],
     "language": "python",
     "metadata": {},
     "outputs": [],
     "prompt_number": 2
    },
    {
     "cell_type": "code",
     "collapsed": false,
     "input": [
      "print('Vers\u00e3o do Fatiando a Terra: {}'.format(fatiando.__version__))"
     ],
     "language": "python",
     "metadata": {},
     "outputs": [
      {
       "output_type": "stream",
       "stream": "stdout",
       "text": [
        "Vers\u00e3o do Fatiando a Terra: 0.3-6-g66c954a\n"
       ]
      }
     ],
     "prompt_number": 3
    },
    {
     "cell_type": "markdown",
     "metadata": {},
     "source": [
      "## Tarefa 1: Gerar dados sint\u00e9ticos\n",
      "\n",
      "Essa tarefa ser\u00e1 \"brincar de Deus\". Vamos criar uma \"Terra\" nossa (nosso modelo) e usar essa Terra para gerar dados (os dados sint\u00e9ticos).\n",
      "\n",
      "1. Execute a c\u00e9lula abaixo (clique nela e aperte `Shift + Enter`) para abrir uma janela para modelagem direta.\n",
      "2. Crie um modelo com 1 corpo (use a densidade que quiser).\n",
      "3. Experimente diferentes configura\u00e7\u00f5es e veja como o dado (anomalia Bouguer) muda.\n",
      "4. Coloque 0.1 mGal de erro no dado. Veja como o erro influencia o dado.\n",
      "5. Quando terminar, feche a janela."
     ]
    },
    {
     "cell_type": "code",
     "collapsed": false,
     "input": [
      "area = (0, 50e3, 0, 20e3)\n",
      "x = np.linspace(area[0], area[1], 150)\n",
      "z = np.zeros_like(x)\n",
      "modelo1 = Moulder(area, x, z)\n",
      "modelo1.run()"
     ],
     "language": "python",
     "metadata": {},
     "outputs": [
      {
       "output_type": "stream",
       "stream": "stderr",
       "text": [
        "/home/leo/bin/anaconda/lib/python2.7/site-packages/matplotlib/axes/_base.py:2791: UserWarning: Attempting to set identical bottom==top results\n",
        "in singular transformations; automatically expanding.\n",
        "bottom=0.0, top=0.0\n",
        "  'bottom=%s, top=%s') % (bottom, top))\n"
       ]
      }
     ],
     "prompt_number": 4
    },
    {
     "cell_type": "markdown",
     "metadata": {},
     "source": [
      "Rode a c\u00e9lula abaixo para salvar o seu modelo e os dados gerados. Mude os nomes dos arquivos se quiser (coisas entre `''`)."
     ]
    },
    {
     "cell_type": "code",
     "collapsed": false,
     "input": [
      "modelo1.save('modelo1')\n",
      "modelo1.save_predicted('modelo1-dados.txt')"
     ],
     "language": "python",
     "metadata": {},
     "outputs": [],
     "prompt_number": 5
    },
    {
     "cell_type": "markdown",
     "metadata": {},
     "source": [
      "## Tarefa 2: Testar uma hip\u00f3tese sobre o dado do colega\n",
      "\n",
      "Pegue o arquivo de dados (`modelo1-dados.txt`) e o arquivo de modelo (`modelo1`) de um colega **que voc\u00ea n\u00e3o viu desenhando**.\n",
      "\n",
      "1. Mude os nomes dos arquivos na c\u00e9lula abaixo (coisas entre `''`) para os do colega.\n",
      "2. Rode a c\u00e9lula abaixo para carregar os dados e abrir a janela de modelagem."
     ]
    },
    {
     "cell_type": "code",
     "collapsed": false,
     "input": [],
     "language": "python",
     "metadata": {},
     "outputs": []
    }
   ],
   "metadata": {}
  }
 ]
}