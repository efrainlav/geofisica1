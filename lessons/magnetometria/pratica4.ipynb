{
 "metadata": {
  "name": "",
  "signature": "sha256:ef4695f2f4e977a9b7befc15fc0302e01a03330f119bde2e9a376a03c79809f2"
 },
 "nbformat": 3,
 "nbformat_minor": 0,
 "worksheets": [
  {
   "cells": [
    {
     "cell_type": "markdown",
     "metadata": {},
     "source": [
      "**Course website**: http://www.leouieda.com/geofisica1\n",
      "\n",
      "**Note**: This notebook is part of the course \"Geof\u00edsica 1\" of Geology program of the \n",
      "[Universidade do Estado do Rio de Janeiro](http://www.uerj.br/). \n",
      "All content can be freely used and adapted under the terms of the \n",
      "[Creative Commons Attribution 4.0 International License](http://creativecommons.org/licenses/by/4.0/).\n",
      "\n",
      "![Creative Commons License](https://i.creativecommons.org/l/by/4.0/88x31.png)"
     ]
    },
    {
     "cell_type": "markdown",
     "metadata": {},
     "source": [
      "# Pr\u00e1tica 4 - Deconvolu\u00e7\u00e3o de Euler\n",
      "\n",
      "Objetivos:\n",
      "\n",
      "* Explorar as solu\u00e7\u00f5es obtidas com a Deconvolu\u00e7\u00e3o de Euler.\n",
      "* Analisar os efeitos do ru\u00eddo aleat\u00f3rio nas solu\u00e7\u00f5es obtidas.\n",
      "* Adquirir a intui\u00e7\u00e3o da sensibilidade da Deconvolu\u00e7\u00e3o aos par\u00e2metros que a controlam."
     ]
    },
    {
     "cell_type": "markdown",
     "metadata": {},
     "source": [
      "## Prepara\u00e7\u00e3o\n",
      "\n",
      "Esse documento que voc\u00ea est\u00e1 usando \u00e9 um [IPython notebook](http://ipython.org/notebook.html). \u00c9 um documento interativo que mistura texto (como esse), c\u00f3digo (como abaixo), e o resultado de executar o c\u00f3digo (que pode ser n\u00fameros, texto, figuras, videos, etc). Esta pr\u00e1tica usar\u00e1 a biblioteca [Fatiando a Terra](http://fatiando.org) de modelagem geof\u00edsica e tamb\u00e9m o m\u00f3dulo [numpy](http://www.numpy.org/).\n",
      "\n",
      "O notebook \u00e9 divido em c\u00e9lulas (como esta). Para editar o conte\u00fado de uma c\u00e9lula, clique nela (clique nesta para editar esse texto). Para executar uma c\u00e9lula, aperte `Shift + Enter`. Execute as duas c\u00e9lulas abaixo."
     ]
    },
    {
     "cell_type": "code",
     "collapsed": false,
     "input": [
      "%matplotlib inline\n",
      "from __future__ import division\n",
      "from IPython.html import widgets\n",
      "import numpy as np\n",
      "from fatiando.gravmag import prism, fourier, euler, sphere, polyprism\n",
      "from fatiando import utils, gridder, mesher\n",
      "from fatiando.vis import mpl, myv\n",
      "import fatiando\n",
      "mpl.rc('lines', linewidth=2)\n",
      "mpl.rc('font', size=12)"
     ],
     "language": "python",
     "metadata": {},
     "outputs": []
    },
    {
     "cell_type": "code",
     "collapsed": false,
     "input": [
      "print('Vers\u00e3o do Fatiando a Terra: {}'.format(fatiando.__version__))"
     ],
     "language": "python",
     "metadata": {},
     "outputs": []
    },
    {
     "cell_type": "markdown",
     "metadata": {},
     "source": [
      "## Tarefa 1: Fonte simples (uma esfera)\n",
      "\n",
      "Nessa tarefa vamos analisar os efeitos do erro aleat\u00f3rio nos resultados da deconvolu\u00e7\u00e3o. Para isso vamos  usar um modelo simples com  uma \u00fanica esfera."
     ]
    },
    {
     "cell_type": "markdown",
     "metadata": {},
     "source": [
      "Rode a c\u00e9lula abaixo para produzir a figura interativa."
     ]
    },
    {
     "cell_type": "code",
     "collapsed": false,
     "input": [
      "inc, dec = 45, 15\n",
      "modelo = [mesher.Sphere(1000, 1000, 400, 300, {'magnetization': utils.ang2vec(5, inc, dec)})]\n",
      "area = [0, 2000, 0, 2000]\n",
      "shape = (100, 100)\n",
      "x, y, z = gridder.regular(area, shape, z=0)\n",
      "anomalia_pura = sphere.tf(x, y, z, modelo, inc, dec)\n",
      "def fonte_simples(erro):\n",
      "    n_janelas = 20 \n",
      "    tamanho_janela = 600\n",
      "    if erro > 0:\n",
      "        anomalia = utils.contaminate(anomalia_pura, erro, seed=0)\n",
      "    else:\n",
      "        anomalia = anomalia_pura\n",
      "    dx = fourier.derivx(x, y, anomalia, shape)\n",
      "    dy = fourier.derivy(x, y, anomalia, shape)\n",
      "    dz = fourier.derivz(x, y, anomalia, shape)\n",
      "    prob = euler.Classic(x, y, z, anomalia, dx, dy, dz, 3)\n",
      "    solver = euler.MovingWindow(prob, windows=(n_janelas, n_janelas), \n",
      "                                size=(tamanho_janela, tamanho_janela))\n",
      "    solver.fit()    \n",
      "    filtrado = [e for e in solver.estimate_ if e[2] > 0]\n",
      "    # Graficos\n",
      "    mpl.figure(figsize=(12, 4.5))\n",
      "    mpl.subplot(1, 2, 1)\n",
      "    mpl.title(u'Anomalia com erro de {} nT'.format(erro))\n",
      "    mpl.axis('scaled')\n",
      "    mpl.contourf(y, x, anomalia, shape, 20, cmap=mpl.cm.RdBu_r)\n",
      "    if filtrado:\n",
      "        x0, y0, z0 = np.transpose(filtrado)\n",
      "        mpl.scatter(y0, x0, c=z0, s=80, cmap=mpl.cm.RdYlGn, vmin=0, vmax=1000)\n",
      "        mpl.colorbar(pad=0).set_label('Profundidade (metros)')\n",
      "    mpl.grid()\n",
      "    mpl.m2km()\n",
      "    mpl.subplot(1, 2, 2)\n",
      "    mpl.title('Derivada em z')\n",
      "    mpl.axis('scaled')\n",
      "    mpl.contourf(y, x, dz, shape, 20, cmap=mpl.cm.RdBu_r)\n",
      "    mpl.colorbar(pad=0).set_label('nT/m')\n",
      "    mpl.square((0, tamanho_janela, 0, tamanho_janela), '--k', linewidth=2, label='Janela')\n",
      "    mpl.legend(loc='upper right')\n",
      "    mpl.m2km()\n",
      "    mpl.tight_layout(pad=0)\n",
      "    return filtrado\n",
      "w = widgets.interactive(fonte_simples, \n",
      "                        erro=widgets.FloatSliderWidget(min=0, max=10, step=1, value=0))\n",
      "w"
     ],
     "language": "python",
     "metadata": {},
     "outputs": []
    },
    {
     "cell_type": "markdown",
     "metadata": {},
     "source": [
      "### Sobre a figura\n",
      "\n",
      "* A figura da esquerda mostra a anomalia magn\u00e9tica de campo total gerada pela esfera.\n",
      "* O centro da esfera est\u00e1 a 400 metros de profundidade.\n",
      "* Os c\u00edrculos coloridos representam as solu\u00e7\u00f5es da deconvolu\u00e7\u00e3o de Euler aplicada a anomalia.\n",
      "* As cores representam a profundidade da solu\u00e7\u00e3o (barra de cor).\n",
      "* A figura da direita mostra a derivada da anomalia na dire\u00e7\u00e3o z (vertical) calculada com a Transformada de Fourier.\n",
      "* As derivadas em x, y e z s\u00e3o utilizadas na deconvolu\u00e7\u00e3o. Somente a derivada em z \u00e9  mostrada aqui para facilitar.\n",
      "* O quadrado preto tracejado representa a \u00e1rea da janela utilizada na deconvolu\u00e7\u00e3o.\n",
      "* O \u00edndice estrutural utilizado na deconvolu\u00e7\u00e3o \u00e9 3.\n",
      "* Somente 20% das  solu\u00e7\u00f5es s\u00e3o mantidas (as melhores). Solu\u00e7\u00f5es localizadas acima dos dados tamb\u00e9m s\u00e3o descartadas."
     ]
    },
    {
     "cell_type": "markdown",
     "metadata": {},
     "source": [
      "Rode a c\u00e9lula abaixo para **gerar uma figura 3D** com o modelo da esfera e as solu\u00e7\u00f5es da deconvolu\u00e7\u00e3o de Euler.\n",
      "* Essa figura 3D reflete os resultados  mostrados na figura acima. \n",
      "* Quando terminar, feche a janela da figura. Enquanto n\u00e3o fechar n\u00e3o poder\u00e1 rodar mais nada aqui.\n",
      "* Rode a c\u00e9lula de novo gerar a figura novamente.\n",
      "* Se alterar a figura acima, a figura 3D ser\u00e1 atualizada quando a gerar novamente.\n",
      "* Para salvar uma foto da figura clicando no disquete."
     ]
    },
    {
     "cell_type": "code",
     "collapsed": false,
     "input": [
      "myv.figure()\n",
      "for e in modelo:\n",
      "    myv.points([[e.x, e.y, e.z]], color=(0, 0, 1), size=e.radius, opacity=0.3)\n",
      "myv.points(w.result, size=30, color=(1, 0, 0))\n",
      "bounds = area + [0, 1000]\n",
      "myv.axes(myv.outline(bounds), ranges=[b*0.001 for b in bounds], fmt='%.1f')\n",
      "myv.wall_bottom(bounds)\n",
      "myv.wall_north(bounds)\n",
      "myv.show()"
     ],
     "language": "python",
     "metadata": {},
     "outputs": []
    },
    {
     "cell_type": "markdown",
     "metadata": {},
     "source": [
      "### Tarefas e perguntas\n",
      "\n",
      "1. Mantenha o erro em zero e gere a figura 3D.\n",
      "    * Onde est\u00e3o localizadas as solu\u00e7\u00f5es da deconvolu\u00e7\u00e3o de Euler?\n",
      "2. Aumente o erro. Se lembre de olhar tanto a figura em planta (o mapa) quanto o 3D.\n",
      "    * Como o erro influencia nas solu\u00e7\u00f5es da deconvolu\u00e7\u00e3o?\n",
      "    * Por que a deconvolu\u00e7\u00e3o \u00e9 t\u00e3o sens\u00edvel ao erro?\n",
      "    * A distribui\u00e7\u00e3o das solu\u00e7\u00f5es em 3D possui alguma semelhan\u00e7a com a forma do corpo (esfera)?    "
     ]
    },
    {
     "cell_type": "markdown",
     "metadata": {},
     "source": [
      "## Tarefa 2: M\u00faltiplas fontes (duas esferas)\n",
      "\n",
      "Agora que voc\u00eas pegaram o jeito da deconvolu\u00e7\u00e3o, vamos ver como  ela  se comporta para um modelo com duas esferas. Vamos analisar como as solu\u00e7\u00f5es s\u00e3o influenciadas pelo procedimento de dividir a \u00e1rea em janelas. Os par\u00e2metros que controlam esse procedimento s\u00e3o o n\u00famero de janelas e o seu tamanho."
     ]
    },
    {
     "cell_type": "markdown",
     "metadata": {},
     "source": [
      "Rode a c\u00e9lula abaixo para produzir a figura interativa."
     ]
    },
    {
     "cell_type": "code",
     "collapsed": false,
     "input": [
      "inc, dec = 45, 15\n",
      "modelo = [mesher.Sphere(1500, 1500, 400, 300, {'magnetization': utils.ang2vec(5, inc, dec)}),\n",
      "          mesher.Sphere(2500, 2500, 400, 300, {'magnetization': utils.ang2vec(5, -15, -20)})]\n",
      "area = [0, 4000, 0, 4000]\n",
      "shape = (100, 100)\n",
      "x, y, z = gridder.regular(area, shape, z=0)\n",
      "anomalia_pura = sphere.tf(x, y, z, modelo, inc, dec)\n",
      "anomalia = utils.contaminate(anomalia_pura, 5, seed=0)\n",
      "dx = fourier.derivx(x, y, anomalia, shape)\n",
      "dy = fourier.derivy(x, y, anomalia, shape)\n",
      "dz = fourier.derivz(x, y, anomalia, shape)\n",
      "prob = euler.Classic(x, y, z, anomalia, dx, dy, dz, 3)\n",
      "def duas_fontes(n_janelas, tamanho_janela):\n",
      "    solver = euler.MovingWindow(prob, windows=(n_janelas, n_janelas), \n",
      "                                size=(tamanho_janela, tamanho_janela),\n",
      "                                keep=0.15)\n",
      "    solver.fit()    \n",
      "    filtrado = [e for e in solver.estimate_ if e[2] > 0]\n",
      "    mpl.figure(figsize=(7, 6))\n",
      "    mpl.title(u'Deconvolu\u00e7\u00e3o com {} x {} janelas de {} m'.format(n_janelas, n_janelas, tamanho_janela))\n",
      "    mpl.axis('scaled')\n",
      "    mpl.contourf(y, x, anomalia, shape, 20, cmap=mpl.cm.RdBu_r)\n",
      "    if filtrado:\n",
      "        x0, y0, z0 = np.transpose(filtrado)\n",
      "        mpl.scatter(y0, x0, c=z0, s=80, cmap=mpl.cm.RdYlGn, vmin=0, vmax=1000)\n",
      "        mpl.colorbar(pad=0).set_label('Profundidade (metros)')\n",
      "    mpl.square((0, tamanho_janela, 0, tamanho_janela), '--k', linewidth=2, label='Janela')\n",
      "    mpl.legend(loc='upper right')\n",
      "    mpl.m2km()\n",
      "    mpl.tight_layout(pad=0)\n",
      "    return filtrado\n",
      "w = widgets.interactive(duas_fontes, \n",
      "                        n_janelas=widgets.IntSliderWidget(min=5, max=50, step=5, value=30),\n",
      "                        tamanho_janela=widgets.FloatSliderWidget(min=200, max=3000, step=100, value=1000))\n",
      "w"
     ],
     "language": "python",
     "metadata": {},
     "outputs": []
    },
    {
     "cell_type": "markdown",
     "metadata": {},
     "source": [
      "### Sobre a figura\n",
      "\n",
      "* A anomalia \u00e9 gerada por duas esferas com magnetiza\u00e7\u00f5es distintas.\n",
      "* Os dados foram contaminados com erro de 5 nT.\n",
      "* O quadrado preto tracejado representa a \u00e1rea da janela utilizada na deconvolu\u00e7\u00e3o.\n",
      "* O \u00edndice estrutural utilizado na deconvolu\u00e7\u00e3o \u00e9 3.\n",
      "* Somente 15% das  solu\u00e7\u00f5es s\u00e3o mantidas (as melhores). Solu\u00e7\u00f5es localizadas acima dos dados tamb\u00e9m s\u00e3o descartadas.\n",
      "* O bot\u00e3o `n_janelas` controla o n\u00famero de janelas em ambas as dire\u00e7\u00f5es. `n_janelas = 10` significa que ser\u00e3o utilizadas 10 x 10 = 100  janelas para fazer a deconvolu\u00e7\u00e3o. \n",
      "* O bot\u00e3o `tamanho_janela` controla o tamanho das janelas (em metros). `n_janelas = 10` e `tamanho_janela = 1000`  significa que a \u00e1rea ser\u00e1 coberta por 10 x 10 = 100 janelas com 1000 x 1000 metros cada. Note que as janelas se  sobrep\u00f5e."
     ]
    },
    {
     "cell_type": "markdown",
     "metadata": {},
     "source": [
      "Rode a c\u00e9lula abaixo para **gerar uma figura 3D** com o modelo da esfera e as solu\u00e7\u00f5es da deconvolu\u00e7\u00e3o de Euler.\n",
      "* Essa figura 3D reflete os resultados  mostrados na figura acima. \n",
      "* Quando terminar, feche a janela da figura. Enquanto n\u00e3o fechar n\u00e3o poder\u00e1 rodar mais nada aqui.\n",
      "* Rode a c\u00e9lula de novo gerar a figura novamente.\n",
      "* Se alterar a figura acima, a figura 3D ser\u00e1 atualizada quando a gerar novamente.\n",
      "* Para salvar uma foto da figura clicando no disquete."
     ]
    },
    {
     "cell_type": "code",
     "collapsed": false,
     "input": [
      "myv.figure()\n",
      "for e in modelo:\n",
      "    myv.points([[e.x, e.y, e.z]], color=(0, 0, 1), size=e.radius, opacity=0.3)\n",
      "myv.points(w.result, size=30, color=(1, 0, 0))\n",
      "bounds = area + [0, 1000]\n",
      "myv.axes(myv.outline(bounds), ranges=[b*0.001 for b in bounds], fmt='%.1f')\n",
      "myv.wall_bottom(bounds)\n",
      "myv.wall_north(bounds)\n",
      "myv.show()"
     ],
     "language": "python",
     "metadata": {},
     "outputs": []
    },
    {
     "cell_type": "markdown",
     "metadata": {},
     "source": [
      "### Tarefas e perguntas\n",
      "\n",
      "1. Mantenha o tamanho das janelas em 1000 metros. Mude o n\u00famero de janelas. N\u00e3o se esque\u00e7a de olhar a figura 3D.\n",
      "    * O n\u00famero de solu\u00e7\u00f5es muda?\n",
      "    * Como varia a dispers\u00e3o das solu\u00e7\u00f5es obtidas?\n",
      "2. Mantenha o n\u00famero de janelas fixo em 30. Mude o tamanho das janelas.\n",
      "    * O que acontece quando o tamanho das janelas \u00e9 pequeno? Por que?\n",
      "    * E quando o tamanho \u00e9 grande? Por que?\n",
      "    * Qual \u00e9 o tamanho que produz as solu\u00e7\u00f5es mais concentradas em cada uma das 2 anomalias? \n",
      "    * Qual \u00e9 a rela\u00e7\u00e3o tamanho com as anomalias?"
     ]
    },
    {
     "cell_type": "markdown",
     "metadata": {},
     "source": [
      "## Tarefa 3: Fontes n\u00e3o-ideais e o \u00edndice estrutural\n",
      "\n",
      "Para complicar ainda mais, vamos fazer um teste com um modelo mais complexo: um sill, um bat\u00f3lito e um dique. Nesse exerc\u00edcio, vamos explorar a influ\u00eancia que o \u00edndice estrutural tem sobre as solu\u00e7\u00f5es.\n",
      "\n",
      "Esse modelo \u00e9 o que foi utilizado em:\n",
      "[Uieda, Oliveira Jr., and Barbosa (2014), Geophysical tutorial: Euler deconvolution of potential-field data, The Leading Edge, 33(4), 448-450.](http://wiki.seg.org/wiki/Euler_deconvolution_of_potential_field_data_%28tutorial%29).\n"
     ]
    },
    {
     "cell_type": "markdown",
     "metadata": {},
     "source": [
      "Rode a c\u00e9lula abaixo para produzir a figura interativa."
     ]
    },
    {
     "cell_type": "code",
     "collapsed": false,
     "input": [
      "area = [5000, 25000, 5000, 25000]\n",
      "bounds = [0, 30000, 0, 30000, 0, 5000]\n",
      "shape = (100, 100)\n",
      "x, y, z = gridder.regular(area, shape, z=-300)\n",
      "inc, dec = -15, 30\n",
      "dike = mesher.PolygonalPrism(\n",
      "    [[78.12500000000136, 17968.750000000004],\n",
      "     [15156.250000000002, 19843.750000000004],\n",
      "     [29843.75, 20781.250000000004],\n",
      "     [29843.75, 21015.625000000004],\n",
      "     [15078.125000000002, 20156.250000000004],\n",
      "     [156.25000000000136, 18281.250000000004]], 0, 5000,\n",
      "    props={'magnetization': utils.ang2vec(10, inc, dec)})\n",
      "sill = mesher.PolygonalPrism(\n",
      "    [[10000.000000000002, 8828.125000000004],\n",
      "     [10156.250000000002, 9062.500000000004],\n",
      "     [11328.125000000002, 10703.125000000004],\n",
      "     [11875.000000000002, 11796.875000000004],\n",
      "     [11953.125000000002, 12890.625000000004],\n",
      "     [11406.250000000002, 13593.750000000004],\n",
      "     [10156.250000000002, 13984.375000000004],\n",
      "     [9375.000000000002, 13984.375000000004],\n",
      "     [9218.750000000002, 13984.375000000004],\n",
      "     [8437.500000000002, 12812.500000000004],\n",
      "     [7968.750000000002, 11796.875000000004],\n",
      "     [7968.750000000002, 10078.125000000004],\n",
      "     [7968.750000000002, 9765.625000000004],\n",
      "     [8593.750000000002, 9218.750000000004]], 1000, 1500,\n",
      "    props={'magnetization': utils.ang2vec(10, inc, dec)})\n",
      "batolito = mesher.PolygonalPrism(\n",
      "    [[18046.875, 9921.875000000004],\n",
      "     [19062.5, 10234.375000000004],\n",
      "     [19765.625, 11093.750000000004],\n",
      "     [20078.125, 12500.000000000004],\n",
      "     [19843.75, 13515.625000000004],\n",
      "     [18281.25, 14140.625000000004],\n",
      "     [16640.625, 14140.625000000004],\n",
      "     [15781.250000000002, 13671.875000000004],\n",
      "     [15703.125000000002, 11718.750000000004],\n",
      "     [15859.375000000002, 10390.625000000004],\n",
      "     [16250.000000000002, 9843.750000000004]], 500, 4000,\n",
      "    props={'magnetization': utils.ang2vec(2, inc, dec)})\n",
      "modelo = [dike, sill, batolito]\n",
      "anomalia = utils.contaminate(polyprism.tf(x, y, z, modelo, inc, dec), 5)\n",
      "dx = fourier.derivx(x, y, anomalia, shape)\n",
      "dy = fourier.derivy(x, y, anomalia, shape)\n",
      "dz = fourier.derivz(x, y, anomalia, shape)\n",
      "def complexo(indice):\n",
      "    tamanho_janela = 3000\n",
      "    prob = euler.Classic(x, y, z, anomalia, dx, dy, dz, indice)\n",
      "    n_janelas = 50\n",
      "    solver = euler.MovingWindow(prob, windows=(n_janelas, n_janelas), \n",
      "                                size=(tamanho_janela, tamanho_janela),\n",
      "                                keep=0.3)\n",
      "    solver.fit()    \n",
      "    filtrado = [e for e in solver.estimate_ if e[2] > 0]\n",
      "    mpl.figure(figsize=(7, 6))\n",
      "    mpl.title(u'\u00cdndice estrutural {}'.format(indice))\n",
      "    mpl.axis('scaled')\n",
      "    mpl.contourf(y, x, anomalia, shape, 20, cmap=mpl.cm.RdBu_r)\n",
      "    if filtrado:\n",
      "        x0, y0, z0 = np.transpose(filtrado)\n",
      "        mpl.scatter(y0, x0, c=z0, s=80, cmap=mpl.cm.RdYlGn, vmin=0, vmax=3000)\n",
      "        mpl.colorbar(pad=0).set_label('Profundidade (metros)')\n",
      "    mpl.square((5e3, 5e3 + tamanho_janela, 5e3, 5e3 + tamanho_janela), '--k', linewidth=2, label='Janela')\n",
      "    mpl.legend(loc='upper left')\n",
      "    for b in modelo:\n",
      "        mpl.polygon(b, xy2ne=True)\n",
      "    mpl.m2km()\n",
      "    mpl.tight_layout(pad=0)\n",
      "    return filtrado\n",
      "w = widgets.interactive(complexo, \n",
      "                        indice=widgets.IntSliderWidget(min=1, max=4, step=1, value=3))\n",
      "w"
     ],
     "language": "python",
     "metadata": {},
     "outputs": []
    },
    {
     "cell_type": "markdown",
     "metadata": {},
     "source": [
      "###  Sobre a figura\n",
      "\n",
      "* A anomalia foi gerada pelos 3 corpos e contaminada com erro de 5 nT.\n",
      "* As linhas pretas s\u00f3lidas representam a proje\u00e7\u00e3o dos 3 corpos na superf\u00edcie.\n",
      "* Nenhum dos corpos aflora.\n",
      "* Somente 30% das solu\u00e7\u00f5es s\u00e3o mantidas (as melhores). Solu\u00e7\u00f5es localizadas acima dos dados tamb\u00e9m s\u00e3o descartadas.\n",
      "* O n\u00famero de janelas \u00e9 de 50 x 50 e o tamanho de 3000 x 3000 metros.\n",
      "* O bot\u00e3o `indice` controla o \u00edndice estrutural."
     ]
    },
    {
     "cell_type": "markdown",
     "metadata": {},
     "source": [
      "### \u00cdndice estrutural\n",
      "\n",
      "O \u00edndice estrutural (IS) representa o decaimento do campo magn\u00e9tico (ou gravitacional) com a dist\u00e2ncia. Esse fator s\u00f3 \u00e9 definido para fontes ideias, como esferas, diques retos e verticais, etc, e varia para cada uma dessas fontes. Segundo Reid et al. (1990), para o caso magn\u00e9tico:\n",
      "\n",
      "| Fonte             | IS  |\n",
      "|-------------------|-----|\n",
      "| Dique             |  1  |\n",
      "| Sill              |  1  |\n",
      "| Esfera            |  3  |\n",
      "| Cilindro vertical |  2  |\n",
      "\n",
      "**Refer\u00eancias**\n",
      "\n",
      "Reid, A. B., J. M. Allsop, H. Granser, A. J. Millett, and I. W. Somerton (1990), Magnetic interpretation in three dimensions using Euler deconvolution, Geophysics, 55(1), 80\u201391, [doi:10.1190/1.1442774](http://dx.doi.org/doi:10.1190/1.1442774)."
     ]
    },
    {
     "cell_type": "markdown",
     "metadata": {},
     "source": [
      "Rode a c\u00e9lula abaixo para **gerar uma figura 3D** com o modelo da esfera e as solu\u00e7\u00f5es da deconvolu\u00e7\u00e3o de Euler.\n",
      "* Essa figura 3D reflete os resultados  mostrados na figura acima. \n",
      "* Quando terminar, feche a janela da figura. Enquanto n\u00e3o fechar n\u00e3o poder\u00e1 rodar mais nada aqui.\n",
      "* Rode a c\u00e9lula de novo gerar a figura novamente.\n",
      "* Se alterar a figura acima, a figura 3D ser\u00e1 atualizada quando a gerar novamente.\n",
      "* Para salvar uma foto da figura clicando no disquete."
     ]
    },
    {
     "cell_type": "code",
     "collapsed": false,
     "input": [
      "myv.figure()\n",
      "myv.polyprisms(modelo, opacity=0.3)\n",
      "myv.points(w.result, size=150, color=(1, 0, 0))\n",
      "myv.axes(myv.outline(bounds), ranges=[b*0.001 for b in bounds], fmt='%.1f')\n",
      "myv.wall_bottom(bounds)\n",
      "myv.wall_north(bounds)\n",
      "myv.show()"
     ],
     "language": "python",
     "metadata": {},
     "outputs": []
    },
    {
     "cell_type": "markdown",
     "metadata": {},
     "source": [
      "### Tarefas e perguntas\n",
      "\n",
      "1. Mantenha o \u00edndice em 3 (esfera). Gere a figura 3D.\n",
      "    * Qual dos 3 corpos  mais se aproxima de uma esfera?\n",
      "    * As solu\u00e7\u00f5es da deconvolu\u00e7\u00e3o est\u00e3o localizadas no centro desse corpo, como acontecia com a esfera da Tarefa 1?\n",
      "    * As solu\u00e7\u00f5es tem alguma semelhan\u00e7a com a forma do corpo (todo o volume, n\u00e3o s\u00f3 as bordas)?\n",
      "    * Como s\u00e3o as solu\u00e7\u00f5es para os outros 2 corpos?\n",
      "    * Elas acertam as profundidades desses 2 corpos?\n",
      "2. Diminua o \u00edndice estrutural. Lembre de olhar a figura 3D.\n",
      "    * Como variam as solu\u00e7\u00f5es (localiza\u00e7\u00e3o horizontal, profundidade, dispers\u00e3o, etc)?\n",
      "    * Qual seria o \u00edndice estrutural mais correto para o dique e para o sill?\n",
      "    * Onde est\u00e3o localizadas as solu\u00e7\u00f5es da deconvolu\u00e7\u00e3o para esse \u00edndice?"
     ]
    }
   ],
   "metadata": {}
  }
 ]
}