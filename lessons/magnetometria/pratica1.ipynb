{
 "metadata": {
  "name": "",
  "signature": "sha256:fcc856a4c5c8b4a53f0fbc26a4ecd4398797926441c5643286ffb79ecced83bf"
 },
 "nbformat": 3,
 "nbformat_minor": 0,
 "worksheets": [
  {
   "cells": [
    {
     "cell_type": "markdown",
     "metadata": {},
     "source": [
      "**Course website**: http://www.leouieda.com/geofisica1\n",
      "\n",
      "**Note**: This notebook is part of the course \"Geof\u00edsica 1\" of Geology program of the \n",
      "[Universidade do Estado do Rio de Janeiro](http://www.uerj.br/). \n",
      "All content can be freely used and adapted under the terms of the \n",
      "[Creative Commons Attribution 4.0 International License](http://creativecommons.org/licenses/by/4.0/).\n",
      "\n",
      "![Creative Commons License](https://i.creativecommons.org/l/by/4.0/88x31.png)"
     ]
    },
    {
     "cell_type": "markdown",
     "metadata": {},
     "source": [
      "# Pr\u00e1tica 1 - O IGRF e a anomalia magn\u00e9tica de campo total\n",
      "\n",
      "Objetivos:\n",
      "\n",
      "* Visualizar o campo magn\u00e9tico de refer\u00eancia [IGRF](http://en.wikipedia.org/wiki/International_Geomagnetic_Reference_Field).\n",
      "* Verificar os efeitos da varia\u00e7\u00e3o secular do campo geomagn\u00e9tico no \u00faltimo s\u00e9culo.\n",
      "* Visualizar o campo magn\u00e9tico induzido em um corpo (cubo) para diferentes inclina\u00e7\u00f5es.\n",
      "* Entender a rela\u00e7\u00e3o entre campo magn\u00e9tico induzido, o campo magn\u00e9tico da Terra (IGRF) e a anomalia magn\u00e9tica de campo total.\n",
      "* Entender o papel da  inclina\u00e7\u00e3o e  declina\u00e7\u00e3o magn\u00e9tica na forma da anomalia."
     ]
    },
    {
     "cell_type": "markdown",
     "metadata": {},
     "source": [
      "## Prepara\u00e7\u00e3o\n",
      "\n",
      "Esse documento que voc\u00ea est\u00e1 usando \u00e9 um [IPython notebook](http://ipython.org/notebook.html). \u00c9 um documento interativo que mistura texto (como esse), c\u00f3digo (como abaixo), e o resultado de executar o c\u00f3digo (que pode ser n\u00fameros, texto, figuras, videos, etc). Esta pr\u00e1tica usar\u00e1 a biblioteca [Fatiando a Terra](http://fatiando.org) de modelagem geof\u00edsica e tamb\u00e9m o m\u00f3dulo [numpy](http://www.numpy.org/).\n",
      "\n",
      "O notebook \u00e9 divido em c\u00e9lulas (como esta). Para editar o conte\u00fado de uma c\u00e9lula, clique nela (clique nesta para editar esse texto). Para executar uma c\u00e9lula, aperte `Shift + Enter`. Execute as duas c\u00e9lulas abaixo."
     ]
    },
    {
     "cell_type": "code",
     "collapsed": false,
     "input": [
      "%matplotlib inline\n",
      "from __future__ import division, print_function\n",
      "from IPython.html import widgets\n",
      "from fatiando import gridder, mesher, utils\n",
      "from fatiando.gravmag import prism, sphere\n",
      "from fatiando.vis import mpl\n",
      "import fatiando\n",
      "from cartopy import crs\n",
      "import numpy as np\n",
      "mpl.rc('font', size=12)"
     ],
     "language": "python",
     "metadata": {},
     "outputs": []
    },
    {
     "cell_type": "code",
     "collapsed": false,
     "input": [
      "print('Vers\u00e3o do Fatiando a Terra: {}'.format(fatiando.__version__))"
     ],
     "language": "python",
     "metadata": {},
     "outputs": []
    },
    {
     "cell_type": "markdown",
     "metadata": {},
     "source": [
      "## Tarefa 1: Visualizar o IGRF"
     ]
    },
    {
     "cell_type": "markdown",
     "metadata": {},
     "source": [
      "Os dados do IGRF foram gerados com o programa [Geomag 7](http://www.ngdc.noaa.gov/geomag/models.shtml)."
     ]
    },
    {
     "cell_type": "markdown",
     "metadata": {},
     "source": [
      "### Tarefas\n",
      "\n",
      "1. Baixe o arquivo de dados do IGRF e salve na mesma pasta que o notebook (clique com a direita + \"Salvar link como\"): [igrf-1900-2010.csv](https://raw.githubusercontent.com/leouieda/geofisica1/master/data/igrf-1900-2010.csv)\n",
      "2. Rode as c\u00e9lulas abaixo para carregar os dados e gerar uma figura interativa. "
     ]
    },
    {
     "cell_type": "code",
     "collapsed": false,
     "input": [
      "igrf = gridder.Grid.load('../../data/igrf-1900-2010.csv')"
     ],
     "language": "python",
     "metadata": {},
     "outputs": []
    },
    {
     "cell_type": "code",
     "collapsed": false,
     "input": [
      "mapa = igrf.set_projection(crs.Geodetic()).reproject(crs.Mollweide())"
     ],
     "language": "python",
     "metadata": {},
     "outputs": []
    },
    {
     "cell_type": "code",
     "collapsed": false,
     "input": [
      "def plota_igrf(ano):\n",
      "    dado = mapa[mapa.year == ano].set_shape((181, 90))\n",
      "    fig, axes = mpl.subplots(1, 3, figsize=(14, 3.5), subplot_kw=dict(projection=mapa.projection))\n",
      "    fig.suptitle('{}'.format(ano), fontsize=16)\n",
      "    ax1, ax2, ax3 = axes\n",
      "    plot = dado.contourf('dec', colorbar='horizontal', levels=80, vmin=-40, vmax=40, ax=ax1)\n",
      "    plot.colorbar.set_label('graus')    \n",
      "    plot = dado.contourf('inc', colorbar='horizontal', levels=20, ax=ax2)\n",
      "    plot.colorbar.set_label('graus')\n",
      "    plot = dado.contourf(dado.int*0.001, colorbar='horizontal', levels=20, ax=ax3)\n",
      "    plot.colorbar.set_label('microTesla')\n",
      "    ax1.coastlines()\n",
      "    ax2.coastlines()\n",
      "    ax3.coastlines()\n",
      "    ax1.set_title('Dec')\n",
      "    ax2.set_title('Inc')\n",
      "    ax3.set_title('Intensidade')    \n",
      "    mpl.tight_layout()\n",
      "widgets.interactive(plota_igrf, ano=widgets.IntSliderWidget(min=1900, max=2000, step=10, value=2000))"
     ],
     "language": "python",
     "metadata": {},
     "outputs": []
    },
    {
     "cell_type": "markdown",
     "metadata": {},
     "source": [
      "### Perguntas\n",
      "\n",
      "* Essas tr\u00eas componentes (declina\u00e7\u00e3o, inclina\u00e7\u00e3o e intensidade) s\u00e3o suficientes para descrever o vetor campo magn\u00e9tico? Mostre a rela\u00e7\u00e3o dessas grandezas com o vetor campo magn\u00e9tico em uma figura.\n",
      "* O campo magn\u00e9tico calculado pelo IGRF tem origem interna ou externa?\n",
      "* Qual das varia\u00e7\u00f5es temporais do campo geomagn\u00e9tico contribuem para a varia\u00e7\u00e3o do IGRF com o passar dos anos?\n"
     ]
    },
    {
     "cell_type": "markdown",
     "metadata": {},
     "source": [
      "## Tarefa 2: O campo magn\u00e9tico induzido em um cubo\n",
      "\n",
      "Vamos ver como varia o campo magn\u00e9tico induzido em cubo para diferentes inclina\u00e7\u00f5es do campo magn\u00e9tico indutor."
     ]
    },
    {
     "cell_type": "markdown",
     "metadata": {},
     "source": [
      "Rode as c\u00e9lulas abaixo para criar um cubo e produzir uma figura interativa."
     ]
    },
    {
     "cell_type": "code",
     "collapsed": false,
     "input": [
      "areacubo = [-400, 400, 400, 1200]\n",
      "cubo = mesher.Prism(areacubo[0], areacubo[1], -50000, 50000, areacubo[2], areacubo[3])\n",
      "plano = gridder.Grid.regular((-1200, 1200, -400, 2000), (13, 13), z=0)"
     ],
     "language": "python",
     "metadata": {},
     "outputs": []
    },
    {
     "cell_type": "code",
     "collapsed": false,
     "input": [
      "def total_cubo(inc, suceptibilidade):\n",
      "    cubo.addprop('magnetization', utils.ang2vec(suceptibilidade, inc, 0))\n",
      "    def mask(area, v):\n",
      "        x1, x2, y1, y2 = area\n",
      "        v[(plano.x >= x1) & (plano.x <= x2) & (plano.y >= y1) & (plano.y <= y2)] = 0\n",
      "        return v\n",
      "    terra = utils.ang2vec(10000, inc, 0)\n",
      "    bx = mask(areacubo, prism.bx(plano.x, plano.z, plano.y, [cubo]))\n",
      "    bz = mask(areacubo, prism.bz(plano.x, plano.z, plano.y, [cubo]))\n",
      "    tx =  bx + terra[0]\n",
      "    tz =  bz + terra[2]\n",
      "    fig, axes = mpl.subplots(1, 2, sharey='all', figsize=(12, 6))\n",
      "    ax1, ax2 = axes\n",
      "    mpl.sca(ax1)\n",
      "    ax1.set_aspect('equal')\n",
      "    ax2.set_aspect('equal')\n",
      "    mpl.square(areacubo, fill='grey')\n",
      "    mpl.quiver(plano.x, plano.y, bx, bz, linewidth=0.5, \n",
      "               scale=50, pivot='middle', angles='xy', scale_units='xy')\n",
      "    mpl.hlines(0, plano.area[0], plano.area[1], linewidth=3)\n",
      "    mpl.set_area(plano.area)\n",
      "    mpl.gca().invert_yaxis()\n",
      "    mpl.xlabel('x (m)')\n",
      "    mpl.ylabel('z (m)')\n",
      "    mpl.title('Campo do corpo')    \n",
      "    mpl.sca(ax2)\n",
      "    mpl.square(areacubo, fill='grey')\n",
      "    mpl.quiver(plano.x, plano.y, tx, tz, linewidth=0.5, color='b',\n",
      "               scale=50, pivot='middle', angles='xy', scale_units='xy')\n",
      "    mpl.hlines(0, plano.area[0], plano.area[1], linewidth=3)\n",
      "    mpl.xlabel('x (m)')\n",
      "    mpl.title('Campo total = corpo + Terra')    \n",
      "    mpl.tight_layout(pad=0)\n",
      "widgets.interactive(total_cubo, inc=widgets.IntSliderWidget(min=-90, max=90, step=5, value=45),\n",
      "                    suceptibilidade=widgets.IntSliderWidget(min=0, max=50, step=10, value=0))"
     ],
     "language": "python",
     "metadata": {},
     "outputs": []
    },
    {
     "cell_type": "markdown",
     "metadata": {},
     "source": [
      "### Sobre as figuras\n",
      "\n",
      "* A figura da **esquerda** mostra o cubo (em cinza). A linha preta \u00e9 a superf\u00edcie (z = 0). \n",
      "* Na presen\u00e7a de um campo externo indutor, o corpo se magnetiza e gera um campo magn\u00e9tico. Esse campo ser\u00e1 mostrado nessa figura em setas pretas.\n",
      "* A figura da **direita** mostra o campo total presente, ou seja, o campo externo indutor (como o campo da Terra, por exemplo) mais o campo do cubo.\n",
      "* O bot\u00e3o `inc` controla a inclina\u00e7\u00e3o do campo magn\u00e9tico indutor (o da Terra). \n",
      "* O bot\u00e3o `suceptibilidade` controla a susceptibilidade magn\u00e9tica do corpo (o quanto ele se magnetiza na presen\u00e7a de um campo indutor).\n",
      "* A **anomalia magn\u00e9tica de campo total** \u00e9 a diferen\u00e7a entre as **amplitudes** do campo total (azul na figura da direita) e o campo da Terra."
     ]
    },
    {
     "cell_type": "markdown",
     "metadata": {},
     "source": [
      "### Tarefas e perguntas\n",
      "\n",
      "1. Aumente a susceptibilidade do cubo e mantenha a inclina\u00e7\u00e3o fixa em 45 graus.\n",
      "    * O que acontece com o campo magn\u00e9tico do cubo? A dire\u00e7\u00e3o do campo magn\u00e9tico do cubo muda?\n",
      "    * O que acontece com o campo total? \n",
      "    * Como varia a amplitude do campo total medida na superf\u00edcie em rela\u00e7\u00e3o ao campo da Terra?\n",
      "    * Fa\u00e7a um esbo\u00e7o de como seria a anomalia de campo total medida na superf\u00edcie.\n",
      "2. Mantenha a susceptibilidade constante e varie a inclina\u00e7\u00e3o do campo da Terra. Coloque a inclina\u00e7\u00e3o em 90 graus (p\u00f3lo Sul).\n",
      "    * O que acontece com o campo total que seria observado na superf\u00edcie?\n",
      "    * Fa\u00e7a um esbo\u00e7o de como seria a anomalia de campo total medida na superf\u00edcie.\n",
      "3. Coloque a inclina\u00e7\u00e3o em -90 graus (p\u00f3lo Norte).\n",
      "    * Como essa situa\u00e7\u00e3o difere do p\u00f3lo Sul para o campo do corpo e o campo total?\n",
      "    * Fa\u00e7a um esbo\u00e7o de como seria a anomalia de campo total medida na superf\u00edcie.\n",
      "    * A anomalia de campo total \u00e9 diferente da que seria observada no p\u00f3lo Sul?\n",
      "4. Coloque a inclina\u00e7\u00e3o em 0 graus (equador).\n",
      "    * Fa\u00e7a um esbo\u00e7o de como seria a anomalia de campo total medida na superf\u00edcie."
     ]
    },
    {
     "cell_type": "markdown",
     "metadata": {},
     "source": [
      "## Tarefa 3: A anomalia magn\u00e9tica de campo total medida na superf\u00edcie\n",
      "\n",
      "Agora vamos ver como a anomalia de campo total fica em um mapa. Vamos simular a anomalia de campo total causada por um prisma (um paralelep\u00edpedo). A anomalia ser\u00e1 calculada em uma area na superf\u00edcie.\n",
      "\n",
      "Rode as c\u00e9lulas abaixo para criar uma figura interativa."
     ]
    },
    {
     "cell_type": "code",
     "collapsed": false,
     "input": [
      "grid = gridder.Grid.regular((-5000, 5000, -5000, 5000), (100, 100), z=0)\n",
      "\n",
      "def mapa_anomalia_cubo(dx, dy, inc, dec):\n",
      "    cubo = mesher.Prism(-dy/2, dy/2, -dx/2, dx/2, 400, 4000,\n",
      "                        props=dict(magnetization=utils.ang2vec(5, inc, dec)))\n",
      "    tf = prism.tf(grid.x, grid.y, grid.z, [cubo], inc, dec)\n",
      "    terra = utils.ang2vec(1000, 0, dec)\n",
      "    mpl.figure(figsize=(9, 7))\n",
      "    mpl.axis('scaled')\n",
      "    mpl.square(cubo.get_bounds()[:4][::-1])\n",
      "    plot = grid.contourf(tf, levels=30)\n",
      "    plot.colorbar.set_label('nanoTesla')\n",
      "    mpl.arrow(4e3, -4e3, terra[1], terra[0], width=10, color='k')\n",
      "    mpl.m2km()\n",
      "    mpl.xlabel('Lest-Oeste (km)')\n",
      "    mpl.ylabel('Norte-Sul (km)')\n",
      "    mpl.tight_layout()\n",
      "    \n",
      "widgets.interactive(mapa_anomalia_cubo, \n",
      "                    dx=widgets.IntSliderWidget(min=100, max=10000, step=100, value=1000),\n",
      "                    dy=widgets.IntSliderWidget(min=100, max=10000, step=100, value=1000),\n",
      "                    inc=widgets.IntSliderWidget(min=-90, max=90, step=5, value=45),\n",
      "                    dec=widgets.IntSliderWidget(min=-90, max=90, step=5, value=0))"
     ],
     "language": "python",
     "metadata": {},
     "outputs": []
    },
    {
     "cell_type": "markdown",
     "metadata": {},
     "source": [
      "### Sobre a figura\n",
      "\n",
      "* O ret\u00e2ngulo preto mostra as dimens\u00f5es horizontais do prisma.\n",
      "* A seta mostra a declina\u00e7\u00e3o do campo da Terra (o indutor).\n",
      "* As cores s\u00e3o a anomalia de campo total causada pelo prisma.\n",
      "* Os bot\u00f5es `dx` e `dy` controlam as dimens\u00f5es do prisma.\n",
      "* Os bot\u00f5es `inc` e `dec` controlam a inclina\u00e7\u00e3o e declina\u00e7\u00e3o do campo da Terra."
     ]
    },
    {
     "cell_type": "markdown",
     "metadata": {},
     "source": [
      "### Tarefas e perguntas\n",
      "\n",
      "1. Mantenha as dimens\u00f5es do prisma e a declina\u00e7\u00e3o contantes (fa\u00e7a um prisma quadrado e declina\u00e7\u00e3o 0). Varie somente a inclina\u00e7\u00e3o.\n",
      "    * Como fica a anomalia de campo total nos p\u00f3los? Ela \u00e9 diferente no p\u00f3lo Norte e no Sul?\n",
      "    * Como fica a anomalia no equador? \n",
      "    * Esses mapas s\u00e3o condizentes com o que voc\u00ea esperava da tarefa 2?\n",
      "2. Coloque a inclina\u00e7\u00e3o em 45 graus e varie a declina\u00e7\u00e3o.\n",
      "    * O que acontece com a anomalia quando voc\u00ea varia a declina\u00e7\u00e3o?\n",
      "    * Coloque a inclina\u00e7\u00e3o em 90 graus. O que acontece quando voc\u00ea varia a declina\u00e7\u00e3o? Explique.\n",
      "3. Fa\u00e7a um corpo alongado na dire\u00e7\u00e3o norte-sul. Coloque a declina\u00e7\u00e3o em 0.\n",
      "    * O que acontece quando voc\u00ea varia a inclina\u00e7\u00e3o? \n",
      "    * Como fica a anomalia quando a inclina\u00e7\u00e3o \u00e9 0?\n",
      "    * Como fica quando a inclina\u00e7\u00e3o \u00e9 90?\n",
      "4. Fa\u00e7a um corpo alongado na dire\u00e7\u00e3o leste-oeste. Coloque a declina\u00e7\u00e3o em 0.\n",
      "    * Como fica a anomalia quando a inclina\u00e7\u00e3o \u00e9 0?\n",
      "    * Como fica quando a inclina\u00e7\u00e3o \u00e9 90?\n",
      "    * Qual \u00e9 corpo seria mais f\u00e1cilmente identificado atrav\u00e9s da anomalia se a inclina\u00e7\u00e3o for baixa, o norte-sul ou o leste-oeste?    "
     ]
    }
   ],
   "metadata": {}
  }
 ]
}