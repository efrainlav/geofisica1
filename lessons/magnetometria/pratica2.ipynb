{
 "metadata": {
  "name": "",
  "signature": "sha256:e8a05a94be44c5f649c556618525bffab87fd96d74a07c7af1e80ad6f9eec9f2"
 },
 "nbformat": 3,
 "nbformat_minor": 0,
 "worksheets": [
  {
   "cells": [
    {
     "cell_type": "markdown",
     "metadata": {},
     "source": [
      "**Course website**: http://www.leouieda.com/geofisica1\n",
      "\n",
      "**Note**: This notebook is part of the course \"Geof\u00edsica 1\" of Geology program of the \n",
      "[Universidade do Estado do Rio de Janeiro](http://www.uerj.br/). \n",
      "All content can be freely used and adapted under the terms of the \n",
      "[Creative Commons Attribution 4.0 International License](http://creativecommons.org/licenses/by/4.0/).\n",
      "\n",
      "![Creative Commons License](https://i.creativecommons.org/l/by/4.0/88x31.png)"
     ]
    },
    {
     "cell_type": "markdown",
     "metadata": {},
     "source": [
      "# Pr\u00e1tica 2 - Transformada de Fourier e transforma\u00e7\u00f5es da anomalia\n",
      "\n",
      "Objetivos:\n",
      "\n",
      "* Visualizar os efeitos e resultados da Transformada de Fourier em sinais simples.\n",
      "* Aplicar a Transformada de Fourier para calcular derivadas da anomalia magn\u00e9tica de campo total.\n",
      "* Observar os efeitos do erro aleat\u00f3rio nas derivadas calculadas.\n",
      "* Aprender as utilidades e limites da continua\u00e7\u00e3o para cima e da redu\u00e7\u00e3o ao polo."
     ]
    },
    {
     "cell_type": "markdown",
     "metadata": {},
     "source": [
      "## Prepara\u00e7\u00e3o\n",
      "\n",
      "Esse documento que voc\u00ea est\u00e1 usando \u00e9 um [IPython notebook](http://ipython.org/notebook.html). \u00c9 um documento interativo que mistura texto (como esse), c\u00f3digo (como abaixo), e o resultado de executar o c\u00f3digo (que pode ser n\u00fameros, texto, figuras, videos, etc). Esta pr\u00e1tica usar\u00e1 a biblioteca [Fatiando a Terra](http://fatiando.org) de modelagem geof\u00edsica e tamb\u00e9m o m\u00f3dulo [numpy](http://www.numpy.org/).\n",
      "\n",
      "O notebook \u00e9 divido em c\u00e9lulas (como esta). Para editar o conte\u00fado de uma c\u00e9lula, clique nela (clique nesta para editar esse texto). Para executar uma c\u00e9lula, aperte `Shift + Enter`. Execute as duas c\u00e9lulas abaixo."
     ]
    },
    {
     "cell_type": "code",
     "collapsed": false,
     "input": [
      "%matplotlib inline\n",
      "from __future__ import division\n",
      "from IPython.html import widgets\n",
      "import numpy as np\n",
      "from fatiando.gravmag import prism, fourier\n",
      "from fatiando import utils, gridder, mesher\n",
      "from fatiando.vis import mpl\n",
      "import fatiando\n",
      "mpl.rc('lines', linewidth=2)\n",
      "mpl.rc('font', size=12)"
     ],
     "language": "python",
     "metadata": {},
     "outputs": []
    },
    {
     "cell_type": "code",
     "collapsed": false,
     "input": [
      "print('Vers\u00e3o do Fatiando a Terra: {}'.format(fatiando.__version__))"
     ],
     "language": "python",
     "metadata": {},
     "outputs": []
    },
    {
     "cell_type": "markdown",
     "metadata": {},
     "source": [
      "## Tarefa 1: Tranformada de Fourier de fun\u00e7\u00f5es simples"
     ]
    },
    {
     "cell_type": "markdown",
     "metadata": {},
     "source": [
      "A primeira tarefa servir\u00e1 para ilustrar o conceito de [Transformada de Fourier](http://en.wikipedia.org/wiki/Fourier_transform) que vimos na aula te\u00f3rica.\n",
      "\n",
      "Como vimos em aula, uma fun\u00e7\u00e3o cont\u00ednua pode ser escrita como:\n",
      "\n",
      "$$\n",
      "h(t) = \\int\\limits_{-\\infty}^{\\infty} H(f)\\ e^{i 2 \\pi f t}df\n",
      "$$\n",
      "\n",
      "em que $f$ \u00e9 a frequ\u00eancia e $e^{i 2 \\pi f t}$ s\u00e3o \"coisas\" que oscilam com frequ\u00eancia $f$.\n",
      "A equa\u00e7\u00e3o acima nos diz que a fun\u00e7\u00e3o $h(t)$ pode ser escrita como uma \"soma\" infinita de oscila\u00e7\u00f5es de frequ\u00eancias diferentes.\n",
      "A oscila\u00e7\u00e3o de frequ\u00eancia $f$ \u00e9 ponderada por uma amplitude $H(f)$. A fun\u00e7\u00e3o que descreve as amplitudes, $H(f)$, \u00e9 a Transformada de Fourier:\n",
      "\n",
      "$$\n",
      "H(f) = \\int\\limits_{-\\infty}^{\\infty} h(t)\\ e^{-i 2 \\pi f t}dt\n",
      "$$\n",
      "\n",
      "$H(f)$ \u00e9 um n\u00famero complexo. \u00c9 comum fazer um gr\u00e1fico do m\u00f3dulo da transformada ($|H(f)|$) pela frequ\u00eancia. Esse gr\u00e1fico \u00e9 chamado de **espectro de amplitudes**."
     ]
    },
    {
     "cell_type": "markdown",
     "metadata": {},
     "source": [
      "**Rode a c\u00e9lula abaixo para gerar uma figura interativa.**"
     ]
    },
    {
     "cell_type": "code",
     "collapsed": false,
     "input": [
      "def dois_senos(freq1, amp1, freq2, amp2):\n",
      "    sample = 1/200\n",
      "    t = np.arange(0, 10, sample)\n",
      "    n = t.size\n",
      "    s = amp1*np.sin(2*np.pi*freq1*t) + amp2*np.sin(2*np.pi*freq2*t)\n",
      "    f = np.fft.fftfreq(n, sample)[:n//2]\n",
      "    S = np.fft.fft(s)[:n//2]/n\n",
      "    fig = mpl.figure(figsize=(12, 5))\n",
      "    ax = mpl.subplot(211)\n",
      "    mpl.title(r'$h(t) = {:.0f}\\ \\sin(2\\pi\\ {:.0f}\\ t) + {:.0f}\\ \\sin(2\\pi\\ {:.0f}\\ t)$'.format(amp1, freq1, amp2, freq2),\n",
      "              fontsize=18)\n",
      "    mpl.plot(t, s, '-k')\n",
      "    mpl.xlim(0, 5)\n",
      "    mpl.ylim(-200, 200)\n",
      "    mpl.grid()\n",
      "    ax.set_xlabel('tempo (s)', labelpad=-15)\n",
      "    mpl.ylabel('Amplitude')\n",
      "    ax = mpl.subplot(212)\n",
      "    mpl.plot(f, np.abs(S), '-k')\n",
      "    mpl.xlim(0, 50)\n",
      "    mpl.ylim(0, 50)\n",
      "    mpl.grid()\n",
      "    ax.set_xlabel('frequencia (Hz)', labelpad=-10)\n",
      "    mpl.ylabel(r'$|H(f)|$', fontsize=14)\n",
      "    mpl.tight_layout(h_pad=0)\n",
      "widgets.interactive(dois_senos, \n",
      "                    freq1=widgets.IntSliderWidget(min=1, max=40, step=1, value=1), \n",
      "                    amp1=widgets.IntSliderWidget(min=0, max=100, step=10, value=0), \n",
      "                    freq2=widgets.IntSliderWidget(min=1, max=40, step=1, value=1), \n",
      "                    amp2=widgets.IntSliderWidget(min=0, max=100, step=10, value=100))"
     ],
     "language": "python",
     "metadata": {},
     "outputs": []
    },
    {
     "cell_type": "markdown",
     "metadata": {},
     "source": [
      "### Sobre a figura\n",
      "\n",
      "* A figura de **cima** mostra a fun\u00e7\u00e3o $h(t)$ que \u00e9 composta por dois senos.\n",
      "* Os **bot\u00f5es** controlam a amplitude e frequ\u00eancia de cada seno.\n",
      "* A figura de **baixo** mostra o espectro de amplitudes da fun\u00e7\u00e3o $h(t)$.\n",
      "\n",
      "### Tarefas e perguntas\n",
      "\n",
      "1. Deixe `amp1 = 0` e fixe `freq2` em algum valor. Varie somente `amp2`.\n",
      "    * Por que o espectro de amplitudes \u00e9 zero em todas as frequ\u00eancias exceto uma? Qual \u00e9 essa frequ\u00eancia?\n",
      "    * O que acontece com $h(t)$ e o espectro de amplitudes quando `amp2` varia?\n",
      "2. Deixe `amp1 = 0` e `amp2=100`. Aumente `freq2`.\n",
      "    * O que acontece com $h(t)$? A amplitude do seno muda?\n",
      "    * O que acontece com o especro de amplitudes? A amplitude do espectro aumenta?\n",
      "3. Deixe `amp2 = 100` e `freq2=1`. Aumente `amp1` e `freq1`.\n",
      "    * O que acontece com $h(t)$ e o espectro de amplitudes?\n",
      "    * Quais s\u00e3o as frequ\u00eancias que n\u00e3o tem amplitude zero no espectro?"
     ]
    },
    {
     "cell_type": "markdown",
     "metadata": {},
     "source": [
      "## Tarefa 2: Continua\u00e7\u00e3o para cima\n",
      "\n",
      "A Transformada de Fourier \u00e9 muito \u00fatil na geof\u00edsica para fazer transforma\u00e7\u00f5es nos dados. Em gravimetria e magnetometria, uma transforma\u00e7\u00e3o comum \u00e9 a \"continua\u00e7\u00e3o para cima\". Essa transforma\u00e7\u00e3o nos permite calcular como a anomalia medida seria se estivesse a uma altitude maior. Um dos jeitos de calcular a continua\u00e7\u00e3o \u00e9 atrav\u00e9s da transformada de Fourier."
     ]
    },
    {
     "cell_type": "markdown",
     "metadata": {},
     "source": [
      "**Rode a c\u00e9lula abaixo para gerar uma figura interativa.**"
     ]
    },
    {
     "cell_type": "code",
     "collapsed": false,
     "input": [
      "shape = (100, 100)\n",
      "x, y, z = gridder.regular((-6000, 6000, -6000, 6000), shape, z=0)\n",
      "modelo = [mesher.Prism(-200, 200, -200, 200, 100, 500),\n",
      "          mesher.Prism(-4000, 4000, -4000, 4000, 1000, 5000)]\n",
      "inc, dec = 45, -10\n",
      "mag = utils.ang2vec(1, inc, dec)\n",
      "modelo[0].props['magnetization'] = 1*mag\n",
      "modelo[1].props['magnetization'] = 1*mag\n",
      "def continuacao(altitude, erro):\n",
      "    cubo_area = modelo[0].get_bounds()[:4][::-1]\n",
      "    tf = prism.tf(x, y, z, modelo, inc, dec)\n",
      "    if erro > 0:\n",
      "        tf = utils.contaminate(tf, erro, seed=0)\n",
      "    cont = fourier.upcontinue(x, y, tf, shape, altitude)\n",
      "    fig, axes = mpl.subplots(1, 2, figsize=(14, 5.5))\n",
      "    for ax, data, title in zip(axes.ravel(), [tf, cont], ['Anomalia em 0 m', 'Continuada para {:.0f} m'.format(altitude)]):\n",
      "        ax.set_aspect('equal')\n",
      "        mpl.sca(ax)\n",
      "        mpl.title(title)\n",
      "        scale = np.abs([data.min(), data.max()]).max()\n",
      "        mpl.contourf(y, x, data, shape, 30, cmap=mpl.cm.RdBu_r, vmin=-scale, vmax=scale)\n",
      "        mpl.colorbar(pad=0).set_label('nT')\n",
      "        mpl.m2km()\n",
      "    mpl.tight_layout(h_pad=0, w_pad=0)    \n",
      "widgets.interactive(continuacao, \n",
      "                    altitude=widgets.FloatSliderWidget(min=0, max=5000, step=50, value=0),\n",
      "                    erro=widgets.FloatSliderWidget(min=0, max=20, step=1, value=0))"
     ],
     "language": "python",
     "metadata": {},
     "outputs": []
    },
    {
     "cell_type": "markdown",
     "metadata": {},
     "source": [
      "### Sobre a figura\n",
      "\n",
      "* Os dados s\u00e3o a anomalia magn\u00e9tica de campo total gerada por dois corpos: um grande e fundo; outro raso e pequeno (no meio da figura).\n",
      "* A figura da **esquerda** mostra a anomalia calulada a uma altitude de 0 m.\n",
      "* A figura da **direita** mostra a anomalia continuada para uma altitude maior usando a Transformada de Fourier.\n",
      "* Os **bot\u00f5es** controlam a altitude da continua\u00e7\u00e3o e o erro (em nanoTesla) colocado no dado original (da esquerda).\n",
      "\n",
      "### Tarefas e perguntas\n",
      "\n",
      "1. Deixe o erro em 0 nT. Aumente a altitude de continua\u00e7\u00e3o.\n",
      "    * O que acontece com a forma e amplitude da anomalia continuada? Dica: observe a barra de cor.\n",
      "    * As duas anomalias (grande e pequena) sofrem a mesma influ\u00eancia da continua\u00e7\u00e3o?\n",
      "    * Se voc\u00ea quiser remover o efeito de uma das anomalias do seu dado, voc\u00ea poderia subtrair os dados da direta dos dados da esquerda? Ou seja, subtrair os dados continuados dos dados observados?\n",
      "2. Aumente o erro e varie a altitude de continua\u00e7\u00e3o.\n",
      "    * Como o erro afeta o resultado da continua\u00e7\u00e3o?"
     ]
    },
    {
     "cell_type": "markdown",
     "metadata": {},
     "source": [
      "## Tarefa 3: Derivada total\n",
      "\n",
      "Outra opera\u00e7\u00e3o que a Transformada de Fourier nos permite fazer \u00e9 calcular derivadas dos nossos dados. Uma transforma\u00e7\u00e3o muito utilizada na magnetometria \u00e9 a Derivada Total (DT):\n",
      "\n",
      "$$\n",
      "DT = \\sqrt{\\left(\\frac{\\partial T}{\\partial x}\\right)^2 + \\left(\\frac{\\partial T}{\\partial y}\\right)^2 + \\left(\\frac{\\partial T}{\\partial z}\\right)^2}\n",
      "$$\n",
      "\n",
      "A DT \u00e9 famosa por concentrar a anomalia magn\u00e9tica de campo total sobre o corpo causador da anomalia.\n",
      "\n",
      "As derivadas parciais na equa\u00e7\u00e3o acima podem ser calculadas da anomalia de campo total ($T$) usando a Transformada de Fourier.\n",
      "Derivando a equa\u00e7\u00e3o de $h(t)$ acima:\n",
      "\n",
      "$$\n",
      "\\frac{\\partial h}{\\partial t} = \\frac{\\partial}{\\partial t}\\left(\\int\\limits_{-\\infty}^{\\infty} H(f)\\ e^{i 2 \\pi f t}df\\right)\n",
      "$$\n",
      "\n",
      "Como a \u00fanica coisa que depende de $t$ \u00e9 $e^{i 2 \\pi f t}$, podemos passar a derivada para dentro da integral:\n",
      "\n",
      "$$\n",
      "\\frac{\\partial h}{\\partial t} = \\int\\limits_{-\\infty}^{\\infty} H(f)\\ \\frac{\\partial e^{i 2 \\pi f t}}{\\partial t}df\n",
      "$$\n",
      "\n",
      "e aplicando a [regra da cadeia](http://en.wikipedia.org/wiki/Chain_rule)\n",
      "\n",
      "$$\n",
      "\\frac{\\partial h}{\\partial t} = \\int\\limits_{-\\infty}^{\\infty} H(f)\\ i 2 \\pi f\\ e^{i 2 \\pi f t} df\n",
      "$$\n",
      "\n",
      "$\\frac{\\partial h}{\\partial t}$ tamb\u00e9m \u00e9 uma fun\u00e7\u00e3o e pode ser escrita como a soma de infinitas oscila\u00e7\u00f5es. Se chamarmos a transformada de Fourier de uma fun\u00e7\u00e3o $h$ de $F\\{h\\}$, podemos escrever a derivada de $h$ como:\n",
      "\n",
      "$$\n",
      "\\frac{\\partial h}{\\partial t} = \\int\\limits_{-\\infty}^{\\infty} F\\left\\{\\frac{\\partial h}{\\partial t}\\right\\}e^{i 2 \\pi f t} df\n",
      "$$\n",
      "\n",
      "Se compararmos as duas equa\u00e7\u00f5es acima, vemos que\n",
      "\n",
      "$$\n",
      "F\\left\\{\\frac{\\partial h}{\\partial t}\\right\\} = H(f)\\ i 2 \\pi f\n",
      "$$\n",
      "\n",
      "Ou seja, a transformada de Fourier da derivada \u00e9 $i 2 \\pi f$ vezes a transformada de Fourier da fun\u00e7\u00e3o. Uma vez tendo a transformada da derivada, podemos calcular a derivada."
     ]
    },
    {
     "cell_type": "markdown",
     "metadata": {},
     "source": [
      "**Rode a c\u00e9lula abaixo para gerar uma figura interativa.**"
     ]
    },
    {
     "cell_type": "code",
     "collapsed": false,
     "input": [
      "shape = (100, 100)\n",
      "x, y, z = gridder.regular((-5000, 5000, -5000, 5000), shape, z=0)\n",
      "dx, dy = 500, 5000\n",
      "cubo = mesher.Prism(-dy/2, dy/2, -dx/2, dx/2, 400, 4000)\n",
      "cubo_area = cubo.get_bounds()[:4][::-1]\n",
      "def derivada_total(inc, dec, erro):\n",
      "    tf = prism.tf(x, y, z, [cubo], inc, dec, pmag=utils.ang2vec(1, inc, dec))\n",
      "    if erro > 0:\n",
      "        tf = utils.contaminate(tf, erro, seed=0)\n",
      "    total = fourier.ansig(x, y, tf, shape)\n",
      "    fig, axes = mpl.subplots(1, 2, figsize=(14, 6))\n",
      "    for ax, data, title in zip(axes.ravel(), [tf, total], ['Anomalia', 'Derivada Total']):\n",
      "        ax.set_aspect('equal')\n",
      "        mpl.sca(ax)\n",
      "        mpl.title(title)\n",
      "        mpl.square(cubo_area)\n",
      "        scale = np.abs([data.min(), data.max()]).max()\n",
      "        mpl.contourf(y, x, data, shape, 30, cmap=mpl.cm.RdBu_r, vmin=-scale, vmax=scale)\n",
      "        if title != \"Anomalia\":\n",
      "            mpl.colorbar(pad=0).set_label('nT/m')\n",
      "        else:\n",
      "            mpl.colorbar(pad=0).set_label('nT')                \n",
      "        mpl.m2km()\n",
      "    mpl.tight_layout(h_pad=0, w_pad=0)    \n",
      "widgets.interactive(derivada_total, \n",
      "                    inc=widgets.IntSliderWidget(min=-90, max=90, step=5, value=45),\n",
      "                    dec=widgets.IntSliderWidget(min=-90, max=90, step=5, value=0),\n",
      "                    erro=widgets.FloatSliderWidget(min=0, max=20, step=1, value=0))"
     ],
     "language": "python",
     "metadata": {},
     "outputs": []
    },
    {
     "cell_type": "markdown",
     "metadata": {},
     "source": [
      "### Sobre a figura\n",
      "\n",
      "* A figura da **esquerda** mostra a anomalia magn\u00e9tica de campo total causada por um paralelep\u00edpedo (contorno preto).\n",
      "* A figura da **direita** mostra a derivada total (DT) da anomalia da esquerda calculada com a Transformada de Fourier.\n",
      "* Os **bot\u00f5es** controlam a inclina\u00e7\u00e3o e declina\u00e7\u00e3o do campo da Terra (`inc` e `dec`) e o erro colocado nos dados originais (da esquerda).\n",
      "\n",
      "### Tarefas e perguntas\n",
      "\n",
      "1. Mantenha a inclina\u00e7\u00e3o em 45\u00ba e declina\u00e7\u00e3o em 0. Aumente o erro aplicado aos dados.\n",
      "    * O que acontece com a Derivada Total quando o erro aumenta? Por que acontece isso? Dica: olhe as equa\u00e7\u00f5es acima.\n",
      "2. Varie a inclina\u00e7\u00e3o e a declina\u00e7\u00e3o.\n",
      "    * A DT varia com a inclina\u00e7\u00e3o?\n",
      "    * A DT continua concentrada em cima do corpo para qualquer inclina\u00e7\u00e3o?\n",
      "    * Se a inclina\u00e7\u00e3o for 0, o que acontece com a DT quando a declina\u00e7\u00e3o varia at\u00e9 $\\pm90$?"
     ]
    },
    {
     "cell_type": "markdown",
     "metadata": {},
     "source": [
      "## Tarefa 4: Redu\u00e7\u00e3o ao p\u00f3lo\n",
      "\n",
      "Vimos na [pr\u00e1tica 1](http://www.leouieda.com/geofisica1/lessons/magnetometria/pratica1.html) que a anomalia magn\u00e9tica \u00e9 muito complicada de interpretar. A melhor situa\u00e7\u00e3o \u00e9 quando a inclina\u00e7\u00e3o do campo magn\u00e9tico \u00e9 $\\pm90^\\circ$ (nos polos). \n",
      "\n",
      "Felizmente, h\u00e1 um jeito de calcular como a anomalia que medimos ficaria se estivesse nos polos. A t\u00e9cnica chama-se (numa explos\u00e3o de criatividade) \"Redu\u00e7\u00e3o ao Polo\". Um dos jeitos de se calcular a redu\u00e7\u00e3o ao polo \u00e9 usando a transformada de Fourier.\n",
      "\n",
      "**\u00c9 necess\u00e1rio conhecer a dire\u00e7\u00e3o de magnetiza\u00e7\u00e3o do corpo para aplicar a redu\u00e7\u00e3o ao polo**. Isso \u00e9 f\u00e1cil se o corpo tiver somente magnetiza\u00e7\u00e3o induzida pelo campo geomagn\u00e9tico. A magnetiza\u00e7\u00e3o \u00e9 paralela ao campo da Terra. A situa\u00e7\u00e3o complica quando h\u00e1 magnetiza\u00e7\u00e3o remanente, aquela que os minerais ferromagn\u00e9ticos guardam quando se resfriam abaixo da [temperatura de Curie](http://en.wikipedia.org/wiki/Curie_temperature). Por isso a redu\u00e7\u00e3o ao polo n\u00e3o \u00e9 t\u00e3o facilmente utilizada quanto a Derivada Total."
     ]
    },
    {
     "cell_type": "markdown",
     "metadata": {},
     "source": [
      "**Rode a c\u00e9lula abaixo para gerar uma figura interativa.**"
     ]
    },
    {
     "cell_type": "code",
     "collapsed": false,
     "input": [
      "shape = (100, 100)\n",
      "x, y, z = gridder.regular((-5000, 5000, -5000, 5000), shape, z=0)\n",
      "dx, dy = 500, 5000\n",
      "cubo = mesher.Prism(-dy/2, dy/2, -dx/2, dx/2, 400, 4000)\n",
      "cubo_area = cubo.get_bounds()[:4][::-1]\n",
      "def reducao_polo(inc, dec, erro):\n",
      "    tf = prism.tf(x, y, z, [cubo], inc, dec, pmag=utils.ang2vec(5, inc, dec))\n",
      "    if erro > 0:\n",
      "        tf = utils.contaminate(tf, erro, seed=0)\n",
      "    rtp = fourier.reduce_to_pole(x, y, tf, shape, inc, dec)\n",
      "    fig, axes = mpl.subplots(1, 2, figsize=(14, 6))\n",
      "    for ax, data, title in zip(axes.ravel(), [tf, rtp], ['Anomalia', 'Reduzida ao polo']):\n",
      "        ax.set_aspect('equal')\n",
      "        mpl.sca(ax)\n",
      "        mpl.title(title)\n",
      "        mpl.square(cubo_area)\n",
      "        scale = np.abs([data.min(), data.max()]).max()\n",
      "        mpl.contourf(y, x, data, shape, 30, cmap=mpl.cm.RdBu_r, vmin=-scale, vmax=scale)\n",
      "        mpl.colorbar(pad=0).set_label('nT')\n",
      "        mpl.m2km()\n",
      "    mpl.tight_layout(h_pad=0, w_pad=0)    \n",
      "widgets.interactive(reducao_polo, \n",
      "                    inc=widgets.IntSliderWidget(min=-90, max=90, step=5, value=45),\n",
      "                    dec=widgets.IntSliderWidget(min=-90, max=90, step=5, value=0),\n",
      "                    erro=widgets.FloatSliderWidget(min=0, max=20, step=1, value=0))"
     ],
     "language": "python",
     "metadata": {},
     "outputs": []
    },
    {
     "cell_type": "markdown",
     "metadata": {},
     "source": [
      "### Sobre a figura\n",
      "\n",
      "* A figura da **esquerda** mostra a anomalia magn\u00e9tica de campo total causada por um paralelep\u00edpedo (contorno preto).\n",
      "* A figura da **direita** mostra a anomalia reduzida ao polo (calculado com a Transformada de Fourier).\n",
      "* Os **bot\u00f5es** controlam a inclina\u00e7\u00e3o e declina\u00e7\u00e3o do campo da Terra (`inc` e `dec`) e o erro colocado nos dados originais (da esquerda).\n",
      "\n",
      "### Tarefas e perguntas\n",
      "\n",
      "1. Mantenha a inclina\u00e7\u00e3o em 45\u00ba e declina\u00e7\u00e3o em 0. Aumente o erro aplicado aos dados.\n",
      "    * O que acontece com a redu\u00e7\u00e3o ao polo quando o erro aumenta? O efeito \u00e9 t\u00e3o grande quanto na Derivada Total?\n",
      "2. Varie a declina\u00e7\u00e3o.\n",
      "    * A anomalia reduzida ao polo continua concentrada em cima do corpo?\n",
      "    * A qualidade da redu\u00e7\u00e3o ao polo varia com a declina\u00e7\u00e3o?\n",
      "3. Varie a inclina\u00e7\u00e3o\n",
      "    * Como a qualidade da redu\u00e7\u00e3o ao polo varia com a inclina\u00e7\u00e3o?\n",
      "    * Quais limita\u00e7\u00f5es essa variabilidade imp\u00f5e na aplicabilidade da redu\u00e7\u00e3o ao polo?  "
     ]
    }
   ],
   "metadata": {}
  }
 ]
}