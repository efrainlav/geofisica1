{
 "metadata": {
  "name": "",
  "signature": "sha256:85bc95d80a0366a5ed7023af3b1f6ef64685b548e10148e04fbd8f79198c8a6a"
 },
 "nbformat": 3,
 "nbformat_minor": 0,
 "worksheets": [
  {
   "cells": [
    {
     "cell_type": "markdown",
     "metadata": {},
     "source": [
      "**Course website**: http://www.leouieda.com/geofisica1\n",
      "\n",
      "**Note**: This notebook is part of the course \"Geof\u00edsica 1\" of Geology program of the \n",
      "[Universidade do Estado do Rio de Janeiro](http://www.uerj.br/). \n",
      "All content can be freely used and adapted under the terms of the \n",
      "[Creative Commons Attribution 4.0 International License](http://creativecommons.org/licenses/by/4.0/).\n",
      "\n",
      "![Creative Commons License](https://i.creativecommons.org/l/by/4.0/88x31.png)"
     ]
    },
    {
     "cell_type": "markdown",
     "metadata": {},
     "source": [
      "# Pr\u00e1tica 5 - Modelagem direta 2D para testar hip\u00f3teses\n",
      "\n",
      "Objetivos:\n",
      "\n",
      "* Entender o que \u00e9 e qual \u00e9 o objetivo da modelagem direta.\n",
      "* Aprender como testar uma hip\u00f3tese geol\u00f3gica com dados geof\u00edsicos.\n",
      "* Ilustrar a import\u00e2ncia de testes com dados sint\u00e9ticos.\n",
      "* Aprender na pr\u00e1tica o significado de falta de unicidade."
     ]
    },
    {
     "cell_type": "markdown",
     "metadata": {},
     "source": [
      "## Prepara\u00e7\u00e3o\n",
      "\n",
      "Esse documento que voc\u00ea est\u00e1 usando \u00e9 um [IPython notebook](http://ipython.org/notebook.html). \u00c9 um documento interativo que mistura texto (como esse), c\u00f3digo (como abaixo), e o resultado de executar o c\u00f3digo (que pode ser n\u00fameros, texto, figuras, videos, etc). Esta pr\u00e1tica usar\u00e1 a biblioteca [Fatiando a Terra](http://fatiando.org) de modelagem geof\u00edsica. Vamos usar modelagem direta interativa da classe `Moulder`. Para isso, precisamos carregar (`import`) o `Moulder` e tamb\u00e9m o m\u00f3dulo [numpy](http://www.numpy.org/).\n",
      "\n",
      "O notebook \u00e9 divido em c\u00e9lulas (como esta). Para editar o conte\u00fado de uma c\u00e9lula, clique nela (clique nesta para editar esse texto). Para executar uma c\u00e9lula, aperte `Shift + Enter`. Execute as duas c\u00e9lulas abaixo."
     ]
    },
    {
     "cell_type": "code",
     "collapsed": false,
     "input": [
      "from __future__ import division\n",
      "from fatiando.gravmag.interactive import Moulder\n",
      "import fatiando\n",
      "import numpy as np"
     ],
     "language": "python",
     "metadata": {},
     "outputs": []
    },
    {
     "cell_type": "code",
     "collapsed": false,
     "input": [
      "print('Vers\u00e3o do Fatiando a Terra: {}'.format(fatiando.__version__))"
     ],
     "language": "python",
     "metadata": {},
     "outputs": []
    },
    {
     "cell_type": "markdown",
     "metadata": {},
     "source": [
      "## Tarefa 1: Gerar dados sint\u00e9ticos\n",
      "\n",
      "Essa tarefa ser\u00e1 \"brincar de Deus\". Vamos criar uma \"Terra\" nossa (nosso modelo) e usar essa Terra para gerar dados (os dados sint\u00e9ticos).\n",
      "\n",
      "1. Execute a c\u00e9lula abaixo (clique nela e aperte `Shift + Enter`) para abrir uma janela para modelagem direta.\n",
      "2. Crie um modelo com 1 corpo (use a densidade que quiser).\n",
      "3. Experimente diferentes configura\u00e7\u00f5es e veja como o dado (anomalia Bouguer) muda.\n",
      "4. Coloque 0.1 mGal de erro no dado. Veja como o erro influencia o dado.\n",
      "5. Quando terminar, feche a janela."
     ]
    },
    {
     "cell_type": "code",
     "collapsed": false,
     "input": [
      "area = (0, 50e3, 0, 20e3)\n",
      "x = np.linspace(area[0], area[1], 150)\n",
      "z = np.zeros_like(x)\n",
      "modelo1 = Moulder(area, x, z)\n",
      "modelo1.run()"
     ],
     "language": "python",
     "metadata": {},
     "outputs": []
    },
    {
     "cell_type": "markdown",
     "metadata": {},
     "source": [
      "Rode a c\u00e9lula abaixo para salvar o seu modelo e os dados gerados. **Mude os nomes dos arquivos (coisas entre `''`) para n\u00e3o perder seus dados**."
     ]
    },
    {
     "cell_type": "code",
     "collapsed": false,
     "input": [
      "modelo1.save('modelo1')\n",
      "modelo1.save_predicted('modelo1-dados.txt')"
     ],
     "language": "python",
     "metadata": {},
     "outputs": []
    },
    {
     "cell_type": "markdown",
     "metadata": {},
     "source": [
      "### Perguntas\n",
      "\n",
      "* O que \u00e9 dado que voc\u00ea gerou? \u00c9 anomalia ar-livre, Bouguer, nenhuma, ambas?\n",
      "* O valor de densidade colocado \u00e9 um contraste entre a densidade do corpo e o que?"
     ]
    },
    {
     "cell_type": "markdown",
     "metadata": {},
     "source": [
      "## Tarefa 2: Testar uma hip\u00f3tese sobre o dado do colega\n",
      "\n",
      "Pegue o arquivo de dados (`modelo1-dados.txt`) e o arquivo de modelo (`modelo1`) de um colega **que voc\u00ea n\u00e3o viu desenhando**. A \u00fanica informa\u00e7\u00e3o \"geol\u00f3gica\" que voc\u00ea tem \u00e9 que o dado \u00e9 **produzido por 1 \u00fanico corpo**.\n",
      "\n",
      "1. Mude os nomes dos arquivos na c\u00e9lula abaixo (coisas entre `''`) para os do colega.\n",
      "2. Rode a c\u00e9lula abaixo para carregar os dados e abrir a janela de modelagem.\n",
      "3. Fa\u00e7a um modelo com 1 corpo que ajuste o dado do colega.\n",
      "4. Quando ajustar os dados, temos um modelo v\u00e1lido do ponto de vista geof\u00edsico.\n",
      "5. Feche a janela quando terminar (n\u00e3o se preocupe, tudo estar\u00e1 salvo). "
     ]
    },
    {
     "cell_type": "code",
     "collapsed": false,
     "input": [
      "dados_colega = 'modelo1-dados.txt'\n",
      "modelo_colega = 'modelo1'\n",
      "x, z, dados = np.loadtxt(dados_colega, unpack=True)\n",
      "modelo2 = Moulder(area, x, z, data=dados)\n",
      "modelo2.run()"
     ],
     "language": "python",
     "metadata": {},
     "outputs": []
    },
    {
     "cell_type": "markdown",
     "metadata": {},
     "source": [
      "A c\u00e9lula abaixo ir\u00e1 salvar seu modelo. **Mude o nome do arquivo (`'modelo2'`) para n\u00e3o perder seus dados**."
     ]
    },
    {
     "cell_type": "code",
     "collapsed": false,
     "input": [
      "modelo2.save('modelo2')"
     ],
     "language": "python",
     "metadata": {},
     "outputs": []
    },
    {
     "cell_type": "markdown",
     "metadata": {},
     "source": [
      "Vamos comparar agora o seu modelo com \"a realidade\" criada pelo colega. Rode as duas c\u00e9lulas abaixo para gerar os gr\u00e1ficos. O primeiro \u00e9 o seu modelo (**troque o nome do arquivo para o que voc\u00ea colocou na c\u00e9lula acima**). O segundo \u00e9 o verdadeiro. **Para salvar a figura abaixo, clique com o bot\u00e3o direito e selecione \"Salvar imagem\".**"
     ]
    },
    {
     "cell_type": "code",
     "collapsed": false,
     "input": [
      "modelo2.plot()"
     ],
     "language": "python",
     "metadata": {},
     "outputs": []
    },
    {
     "cell_type": "code",
     "collapsed": false,
     "input": [
      "Moulder.load(modelo_colega).plot()"
     ],
     "language": "python",
     "metadata": {},
     "outputs": []
    },
    {
     "cell_type": "markdown",
     "metadata": {},
     "source": [
      "### Perguntas \n",
      "\n",
      "* Voc\u00ea chegou perto (sem colar)?\n",
      "* Muito provavelmente a resposta acima \u00e9 \"n\u00e3o\". Por que?\n",
      "* O seu modelo \u00e9 uma solua\u00e7\u00e3o v\u00e1lida do ponto de vista geof\u00edsico?\n",
      "* O que seria necess\u00e1rio para produzir um modelo que se aproxime mais da realidade?"
     ]
    },
    {
     "cell_type": "markdown",
     "metadata": {},
     "source": [
      "## Tarefa 3: Um modelo de intrus\u00e3o \u00edgnea\n",
      "\n",
      "O problema anterior foi de sacanagem. N\u00e3o h\u00e1 como gerar um modelo que reproduza a realidade somente com a anomalia. Como voc\u00ea viu, **existem v\u00e1rios (at\u00e9 infinitos) modelos que produzem o mesmo dado**. O que diferencia um poss\u00edvel modelo e outro \u00e9 o conhecimento geol\u00f3gico e geof\u00edsico do int\u00e9rprete (voc\u00ea).\n",
      "\n",
      "Para ilustrar isso vamos fazer uma \"realidade\" na qual o teremos mais informa\u00e7\u00f5es geol\u00f3gicas. Dessa vez, diremos para o colega que pegar nosso dado qual \u00e9 o contexo geol\u00f3gico e qual \u00e9 a densidade correta.\n",
      "\n",
      "Em situa\u00e7\u00f5es reais, dificilmente fazemos um levantamento geof\u00edsico em uma \u00e1rea onde o conhecimento da geologia \u00e9 zero. Sabemos que tem intrus\u00f5es nessa regi\u00e3o, que ali \u00e9 uma bacia sedimentar, etc."
     ]
    },
    {
     "cell_type": "markdown",
     "metadata": {},
     "source": [
      "### Parte 1: Gere dados sint\u00e9ticos\n",
      "\n",
      "1. Gere um modelo de uma (1) intrus\u00e3o (dique, bat\u00f3lito, soleira, etc).\n",
      "2. Coloque um contraste de densidade positivo (rochas \u00edgneas s\u00e3o densas).\n",
      "3. Feche a janela quando terminar."
     ]
    },
    {
     "cell_type": "code",
     "collapsed": false,
     "input": [
      "area = (0, 10e3, 0, 5e3)\n",
      "x = np.linspace(area[0], area[1], 150)\n",
      "z = np.zeros_like(x)\n",
      "modelo3 = Moulder(area, x, z)\n",
      "modelo3.run()"
     ],
     "language": "python",
     "metadata": {},
     "outputs": []
    },
    {
     "cell_type": "markdown",
     "metadata": {},
     "source": [
      "A c\u00e9lula abaixo salva os dados e o modelo. **Mude os nomes dos arquivos para n\u00e3o confundir/sobreescrever e perder seus dados.**"
     ]
    },
    {
     "cell_type": "code",
     "collapsed": false,
     "input": [
      "modelo3.save('modelo3')\n",
      "modelo3.save_predicted('modelo3-dados.txt')"
     ],
     "language": "python",
     "metadata": {},
     "outputs": []
    },
    {
     "cell_type": "markdown",
     "metadata": {},
     "source": [
      "### Parte 2: Modelagem da intrus\u00e3o \u00edgnea\n",
      "\n",
      "Vamos tentar a modelagem novamente. Dessa vez, sabemos que a anomalia \u00e9 causada por uma intrus\u00e3o (bat\u00f3lito, dique, soleira, etc). Tamb\u00e9m sabemos a densidade correta (perguntar para o colega).\n",
      "\n",
      "1. Troque os dados e o modelo (os dois arquivos acima) com algum colega que **n\u00e3o viu o modelo**. Dessa vez, informem a densidade que usaram.\n",
      "2. Mude os nomes dos arquivos na c\u00e9lula abaixo para os dados do colega.\n",
      "3. Execute a c\u00e9lula abaixo para carregar os dados do colega e fazer a modelagem.\n",
      "4. Coloque a densidade correta.\n",
      "5. Produza uma solu\u00e7\u00e3o v\u00e1lida (que ajuste os dados) e que **tamb\u00e9m seja condizente com a geologia**."
     ]
    },
    {
     "cell_type": "code",
     "collapsed": false,
     "input": [
      "dado_colega_intrusao = 'modelo3-dados.txt'\n",
      "modelo_colega_intrusao = 'modelo3'\n",
      "x, z, dado = np.loadtxt(dado_colega_intrusao, unpack=True)\n",
      "modelo_colega3 = Moulder(area, x, z, data=dado)\n",
      "modelo_colega3.run()"
     ],
     "language": "python",
     "metadata": {},
     "outputs": []
    },
    {
     "cell_type": "markdown",
     "metadata": {},
     "source": [
      "Salvando a sua solu\u00e7\u00e3o:"
     ]
    },
    {
     "cell_type": "code",
     "collapsed": false,
     "input": [
      "modelo_colega3.save('modelo_colega3')"
     ],
     "language": "python",
     "metadata": {},
     "outputs": []
    },
    {
     "cell_type": "markdown",
     "metadata": {},
     "source": [
      "Vamos ver como foi dessa vez. Primeiro o seu resultado e depois o verdadeiro. **Mude o nome do arquivo para o que voc\u00ea usou na c\u00e9lula acima**."
     ]
    },
    {
     "cell_type": "code",
     "collapsed": false,
     "input": [
      "modelo_colega3.plot()"
     ],
     "language": "python",
     "metadata": {},
     "outputs": []
    },
    {
     "cell_type": "code",
     "collapsed": false,
     "input": [
      "Moulder.load(modelo_colega_intrusao).plot()"
     ],
     "language": "python",
     "metadata": {},
     "outputs": []
    },
    {
     "cell_type": "markdown",
     "metadata": {},
     "source": [
      "### Perguntas \n",
      "\n",
      "* Voc\u00ea chegou perto (sem colar)?\n",
      "* Foi mais pr\u00f3ximo que da \u00faltima vez? Por que?\n",
      "* O seu modelo \u00e9 uma solua\u00e7\u00e3o v\u00e1lida do ponto de vista geof\u00edsico?\n",
      "* Como a informa\u00e7\u00e3o adicional te ajudou/n\u00e3o ajudou?"
     ]
    },
    {
     "cell_type": "markdown",
     "metadata": {},
     "source": [
      "## (EXTRA) Tarefa 4: Modelo de uma bacia sedimentar"
     ]
    },
    {
     "cell_type": "markdown",
     "metadata": {},
     "source": [
      "Vamos repetir o mesmo processo feito acima mas dessa vez para o modelo de uma bacia sedimentar. \n",
      "Teremos que fazer algumas simplifica\u00e7\u00f5es:\n",
      "\n",
      "* O pacote sedimentar tem densidade homog\u00eanea.\n",
      "* N\u00e3o h\u00e1 intrus\u00f5es nem outras anomilias de densidade.\n",
      "* A bacia n\u00e3o possui topografia.\n",
      "\n",
      "Dessa vez vamos **trocar a dica**: ao inv\u00e9s da densidade, vamos informar a profundidade do embasamento em dois pontos.\n",
      "Em casos reais, essa informa\u00e7\u00e3o poderia vir de po\u00e7os que alca\u00e7aram o embasamento."
     ]
    },
    {
     "cell_type": "markdown",
     "metadata": {},
     "source": [
      "### Parte 1: Gere dados sint\u00e9ticos\n",
      "\n",
      "1. Gere um modelo de uma bacia sedimentar.\n",
      "2. Coloque um contraste de densidade negativo.\n",
      "3. Feche a janela quando terminar."
     ]
    },
    {
     "cell_type": "code",
     "collapsed": false,
     "input": [
      "area = (0, 200e3, 0, 15e3)\n",
      "x = np.linspace(area[0], area[1], 150)\n",
      "z = np.zeros_like(x)\n",
      "modelo4 = Moulder(area, x, z)\n",
      "modelo4.run()"
     ],
     "language": "python",
     "metadata": {},
     "outputs": []
    },
    {
     "cell_type": "markdown",
     "metadata": {},
     "source": [
      "A c\u00e9lula abaixo salva os dados e o modelo. **Mude os nomes dos arquivos para n\u00e3o confundir/sobreescrever e perder seus dados.**"
     ]
    },
    {
     "cell_type": "code",
     "collapsed": false,
     "input": [
      "modelo4.save('modelo4')\n",
      "modelo4.save_predicted('modelo4-dados.txt')"
     ],
     "language": "python",
     "metadata": {},
     "outputs": []
    },
    {
     "cell_type": "markdown",
     "metadata": {},
     "source": [
      "### Parte 2: Modelagem da bacia\n",
      "\n",
      "Sabemos que a anomalia \u00e9 causada por uma bacia sedimentar e que podemos considerar que a densidade \u00e9 homog\u00eanea.\n",
      "\n",
      "1. Troque os dados e o modelo com algum colega que **n\u00e3o viu o modelo**. \n",
      "2. Informem a profundidade do embasamento para 2 coordenadas x (digam o valor de x e qual \u00e9 o z correspondente).\n",
      "3. Mude os nomes dos arquivos na c\u00e9lula abaixo para os dados do colega.\n",
      "4. Execute a c\u00e9lula abaixo para carregar os dados do colega e fazer a modelagem.\n",
      "5. Produza uma solu\u00e7\u00e3o v\u00e1lida (que ajuste os dados) e que **tamb\u00e9m seja condizente com a geologia**."
     ]
    },
    {
     "cell_type": "code",
     "collapsed": false,
     "input": [
      "dado_colega_bacia = 'modelo4-dados.txt'\n",
      "modelo_colega_bacia = 'modelo4'\n",
      "x, z, dado = np.loadtxt(dado_colega_bacia, unpack=True)\n",
      "modelo_colega4 = Moulder(area, x, z, data=dado)\n",
      "modelo_colega4.run()"
     ],
     "language": "python",
     "metadata": {},
     "outputs": []
    },
    {
     "cell_type": "code",
     "collapsed": false,
     "input": [
      "modelo_colega4.save('modelo_colega4')"
     ],
     "language": "python",
     "metadata": {},
     "outputs": []
    },
    {
     "cell_type": "markdown",
     "metadata": {},
     "source": [
      "Vamos ver se voc\u00eas acertaram dessa vez. **Mude o nome do arquivo na  c\u00e9lula abaixo para o que voc\u00ea usou para salvar acima**."
     ]
    },
    {
     "cell_type": "code",
     "collapsed": false,
     "input": [
      "modelo_colega4.plot()"
     ],
     "language": "python",
     "metadata": {},
     "outputs": []
    },
    {
     "cell_type": "code",
     "collapsed": false,
     "input": [
      "Moulder.load(modelo_colega_bacia).plot()"
     ],
     "language": "python",
     "metadata": {},
     "outputs": []
    },
    {
     "cell_type": "markdown",
     "metadata": {},
     "source": [
      "### Perguntas \n",
      "\n",
      "* Por que voc\u00ea usou uma densidade negativa para os sedimentos?\n",
      "* Voc\u00ea chegou perto (sem colar)?\n",
      "* Foi mais pr\u00f3ximo que da \u00faltima vez? Por que?\n",
      "* O seu modelo \u00e9 uma solua\u00e7\u00e3o v\u00e1lida do ponto de vista geof\u00edsico?\n",
      "* Como a informa\u00e7\u00e3o adicional te ajudou/n\u00e3o ajudou?"
     ]
    }
   ],
   "metadata": {}
  }
 ]
}