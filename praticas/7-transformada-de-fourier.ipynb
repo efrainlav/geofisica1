{
 "cells": [
  {
   "cell_type": "markdown",
   "metadata": {},
   "source": [
    "**Course website**: http://www.leouieda.com/geofisica1\n",
    "\n",
    "**Note**: This notebook is part of the course \"Geofísica 1\" of Geology program of the \n",
    "[Universidade do Estado do Rio de Janeiro](http://www.uerj.br/). \n",
    "All content can be freely used and adapted under the terms of the \n",
    "[Creative Commons Attribution 4.0 International License](http://creativecommons.org/licenses/by/4.0/).\n",
    "\n",
    "![Creative Commons License](https://i.creativecommons.org/l/by/4.0/88x31.png)"
   ]
  },
  {
   "cell_type": "markdown",
   "metadata": {},
   "source": [
    "Esse documento que você está usando é um [Jupyter notebook](http://jupyter.org/). É um documento interativo que mistura texto (como esse), código (como abaixo), e o resultado de executar o código (números, texto, figuras, videos, etc)."
   ]
  },
  {
   "cell_type": "markdown",
   "metadata": {},
   "source": [
    "# Prática 7 - Magnetometria - Transformada de Fourier e derivadas\n",
    "\n",
    "## Objetivos\n",
    "\n",
    "* Visualizar os efeitos e resultados da Transformada de Fourier em sinais simples.\n",
    "* Aplicar a Transformada de Fourier para calcular derivadas da anomalia magnética de campo total.\n",
    "* Observar os efeitos do erro aleatório nas derivadas calculadas."
   ]
  },
  {
   "cell_type": "markdown",
   "metadata": {},
   "source": [
    "## Instruções\n",
    "\n",
    "O notebook te fornecerá exemplos interativos que trabalham os temas abordados no questionário. Utilize esses exemplos para responder as perguntas.\n",
    "\n",
    "As células com números ao lado, como `In [1]:`, são código [Python](http://python.org/). Algumas dessas células não produzem resultado e servem de preparação para os exemplos interativos. Outras, produzem gráficos interativos. **Você deve executar todas as células, uma de cada vez**, mesmo as que não produzem gráficos.\n",
    "\n",
    "Para executar uma célula, clique em cima dela e aperte `Shift + Enter`. O foco (contorno verde ou cinza em torno da célula) deverá passar para a célula abaixo. Para rodá-la, aperte `Shift + Enter` novamente e assim por diante. Você pode executar células de texto que não acontecerá nada."
   ]
  },
  {
   "cell_type": "code",
   "execution_count": null,
   "metadata": {
    "collapsed": false
   },
   "outputs": [],
   "source": [
    "%matplotlib inline\n",
    "from __future__ import division\n",
    "from IPython.html import widgets\n",
    "import numpy as np\n",
    "from fatiando.gravmag import prism, fourier\n",
    "from fatiando import utils, gridder, mesher\n",
    "from fatiando.vis import mpl\n",
    "import fatiando\n",
    "mpl.rc('lines', linewidth=2)\n",
    "mpl.rc('font', size=12)"
   ]
  },
  {
   "cell_type": "code",
   "execution_count": null,
   "metadata": {
    "collapsed": true
   },
   "outputs": [],
   "source": [
    "%matplotlib inline\n",
    "from __future__ import division\n",
    "import numpy as np\n",
    "import matplotlib.pyplot as plt\n",
    "import ipywidgets as widgets\n",
    "from IPython.display import display\n",
    "import seaborn\n",
    "import fatiando\n",
    "from fatiando import gridder, mesher, utils\n",
    "from fatiando.gravmag import prism\n",
    "from fatiando.vis import mpl\n",
    "seaborn.set_context('talk')"
   ]
  },
  {
   "cell_type": "code",
   "execution_count": null,
   "metadata": {
    "collapsed": false
   },
   "outputs": [],
   "source": [
    "print('Versão do Fatiando a Terra: {}'.format(fatiando.__version__))"
   ]
  },
  {
   "cell_type": "markdown",
   "metadata": {},
   "source": [
    "## Tranformada de Fourier"
   ]
  },
  {
   "cell_type": "markdown",
   "metadata": {},
   "source": [
    "A primeira tarefa servirá para ilustrar o conceito de [Transformada de Fourier](http://en.wikipedia.org/wiki/Fourier_transform) que vimos na aula teórica.\n",
    "\n",
    "Como vimos em aula, uma função $h(t)$ pode ser escrita como:\n",
    "\n",
    "$$\n",
    "h(t) = \\int\\limits_{-\\infty}^{\\infty} H(f)\\ e^{i 2 \\pi f t}df\n",
    "$$\n",
    "\n",
    "em que $f$ é a frequência. $e^{i 2 \\pi f t}$ são \"coisas\" que oscilam com frequência $f$ pois\n",
    "\n",
    "$$\n",
    "e^{i 2 \\pi f t} = \\cos(2 \\pi f t) + i\\sin(2 \\pi f t)\n",
    "$$\n",
    "\n",
    "A equação da transformada nos diz que a função $h(t)$ pode ser escrita como uma \"soma\" infinita de oscilações de frequências diferentes.\n",
    "A oscilação de frequência $f$ possui uma amplitude $H(f)$. A função que descreve as amplitudes, $H(f)$, é a **Transformada de Fourier**. Podemos calcular a transformada $H(f)$ da função utilizando a fórmula abaixo:\n",
    "\n",
    "$$\n",
    "H(f) = \\int\\limits_{-\\infty}^{\\infty} h(t)\\ e^{-i 2 \\pi f t}dt\n",
    "$$\n",
    "\n",
    "$H(f)$ é um número complexo. É comum fazer um gráfico do módulo da transformada $|H(f)|$ pela frequência. Esse gráfico é chamado de **espectro de amplitudes**."
   ]
  },
  {
   "cell_type": "markdown",
   "metadata": {},
   "source": [
    "**Rode a célula abaixo para gerar uma figura interativa.**"
   ]
  },
  {
   "cell_type": "code",
   "execution_count": null,
   "metadata": {
    "collapsed": false
   },
   "outputs": [],
   "source": [
    "def dois_senos(f1, A1, f2, A2):\n",
    "    sample = 1/200\n",
    "    t = np.arange(0, 10, sample)\n",
    "    n = t.size\n",
    "    s = A1*np.sin(2*np.pi*f1*t) + A2*np.sin(2*np.pi*f2*t)\n",
    "    f = np.fft.fftfreq(n, sample)[:n//2]\n",
    "    S = np.fft.fft(s)[:n//2]/n\n",
    "    fig = plt.figure(figsize=(12, 6))\n",
    "    ax = plt.subplot(211)\n",
    "    plt.title(r'$h(t) = A_1 \\sin(2\\pi f_1 t) + A_2 \\sin(2\\pi f_2 t)$', fontsize=16)\n",
    "    plt.plot(t, s, '-k')\n",
    "    plt.xlim(0, 5)\n",
    "    plt.ylim(-200, 200)\n",
    "    ax.set_xlabel('tempo (s)', labelpad=-15)\n",
    "    plt.ylabel('Amplitude')\n",
    "    ax = plt.subplot(212)\n",
    "    plt.title(r'$|H(f)|$', fontsize=16)\n",
    "    plt.vlines(f, [0], np.abs(S), colors='k', linewidth=3)\n",
    "    plt.hlines(0, f.min(), f.max(), colors='k', linewidth=5)\n",
    "    plt.xlim(0, 50)\n",
    "    plt.ylim(0, 60)\n",
    "    ax.set_xlabel('frequencia (Hz)', labelpad=-10)\n",
    "    plt.ylabel('Amplitude')\n",
    "    plt.tight_layout()\n",
    "widgets.interactive(dois_senos, \n",
    "                    f1=widgets.IntSlider(min=1, max=40, step=1, value=1), \n",
    "                    A1=widgets.IntSlider(min=0, max=100, step=10, value=100), \n",
    "                    f2=widgets.IntSlider(min=1, max=40, step=1, value=10), \n",
    "                    A2=widgets.IntSlider(min=0, max=100, step=10, value=0))"
   ]
  },
  {
   "cell_type": "markdown",
   "metadata": {},
   "source": [
    "### Sobre a figura\n",
    "\n",
    "* A figura de **cima** mostra a função $h(t)$ que é composta por dois senos.\n",
    "* Os **botões** controlam a amplitude e frequência de cada seno.\n",
    "* A figura de **baixo** mostra o módulo Transformada de Fourier (espectro de amplitudes) da função $h(t)$. O espectro foi calculado a partir de dados da função $h(t)$ (pontos em uma tabela). "
   ]
  },
  {
   "cell_type": "markdown",
   "metadata": {},
   "source": [
    "## Derivadas\n",
    "\n",
    "Na gravimetria e magnetometria fazemos diversas operações que dependem das derivadas das  anomalias. Precisamos de um jeito de calcular essas derivadas sem sabermos a função que produz a anomalia. Felizmente, as derivadas parciais podem ser calculadas usando a Transformada de Fourier.\n",
    "\n",
    "Sabemos que a transformada de Fourier da derivada $W(f)$ é \n",
    "\n",
    "$$\n",
    "W(f) = H(f)\\ i 2 \\pi f\n",
    "$$\n",
    "\n",
    "Ou seja, podemos calcular a transformada da derivada através da transformada dos dados. Uma vez tendo a transformada da derivada, podemos calcular a derivada fazendo a transformada inversa:\n",
    "\n",
    "\n",
    "$$\n",
    "\\dfrac{\\partial h}{\\partial t} = \\int\\limits_{-\\infty}^{\\infty} W(f)\\ e^{i 2 \\pi f t}df\n",
    "$$"
   ]
  },
  {
   "cell_type": "markdown",
   "metadata": {},
   "source": [
    "**Rode a célula abaixo para gerar uma figura interativa.**"
   ]
  },
  {
   "cell_type": "code",
   "execution_count": null,
   "metadata": {
    "collapsed": false
   },
   "outputs": [],
   "source": [
    "def dois_senos_derivada(f1, A1, f2, A2):\n",
    "    sample = 1/200\n",
    "    t = np.arange(0, 10, sample)\n",
    "    n = t.size\n",
    "    h = A1*np.sin(2*np.pi*f1*t) + A2*np.sin(2*np.pi*f2*t)\n",
    "    f = np.fft.fftfreq(n, sample)\n",
    "    H = np.fft.fft(h)\n",
    "    # A linha abaixo calcula a transformada da derivada\n",
    "    W = H*1j*2*np.pi*f\n",
    "    # e essa calcula a derivada através da transformada inversa\n",
    "    w = np.fft.ifft(W)    \n",
    "    f = f[:n//2]\n",
    "    Habs = np.abs(H[:n//2]/n)\n",
    "    Wabs = np.abs(W[:n//2]/n)        \n",
    "    fig, axes = plt.subplots(2, 2, figsize=(14, 7))\n",
    "    # Plot the function and spectrum\n",
    "    ax = axes[0][0]\n",
    "    ax.set_title(r'$h(t) = A_1 \\sin(2\\pi f_1 t) + A_2 \\sin(2\\pi f_2 t)$', fontsize=16)\n",
    "    ax.plot(t, h, '-k')\n",
    "    ax.set_xlim(0, 2.5)\n",
    "    ax.set_ylim(-200, 200)\n",
    "    ax.set_xlabel('t (s)', labelpad=-15)\n",
    "    ax.set_ylabel('Amplitude')\n",
    "    ax = axes[1][0]\n",
    "    ax.set_title(r'$|H(f)|$', fontsize=16)\n",
    "    ax.vlines(f, [0], Habs, colors='k', linewidth=3)\n",
    "    ax.hlines(0, f.min(), f.max(), colors='k', linewidth=5)\n",
    "    ax.set_xlim(0, 50)\n",
    "    ax.set_ylim(0, 60)\n",
    "    ax.set_xlabel('f (Hz)', labelpad=-10)\n",
    "    ax.set_ylabel('Amplitude')\n",
    "    # Plot the derivative and spectrum\n",
    "    ax = axes[0][1]\n",
    "    ax.set_title(r'$\\partial h / \\partial t$', fontsize=16)\n",
    "    ax.plot(t, w, '-k')\n",
    "    ax.set_xlim(0, 2.5)\n",
    "    ax.set_xlabel('t (s)', labelpad=-15)    \n",
    "    ax = axes[1][1]\n",
    "    ax.set_title(r'$|W(f)|$', fontsize=16)\n",
    "    ax.vlines(f, [0], Wabs, colors='k', linewidth=3)\n",
    "    ax.hlines(0, f.min(), f.max(), colors='k', linewidth=5)\n",
    "    ax.set_xlim(0, 50)\n",
    "    ax.set_xlabel('f (Hz)', labelpad=-10)    \n",
    "    plt.tight_layout()\n",
    "widgets.interactive(dois_senos_derivada, \n",
    "                    f1=widgets.IntSlider(min=1, max=40, step=1, value=1), \n",
    "                    A1=widgets.IntSlider(min=0, max=100, step=10, value=100), \n",
    "                    f2=widgets.IntSlider(min=1, max=40, step=1, value=10), \n",
    "                    A2=widgets.IntSlider(min=0, max=50, step=10, value=0))"
   ]
  },
  {
   "cell_type": "markdown",
   "metadata": {},
   "source": [
    "### Sobre a figura\n",
    "\n",
    "* A coluna da esquerda na figura acima mostra os dois senos e seu espectro de amplitudes, como na figura anterior.\n",
    "* A coluna da direita mostra a derivada de $h(t)$ e seu espectro de amplitudes. A derivada foi calculada através da transformada de Fourier."
   ]
  },
  {
   "cell_type": "markdown",
   "metadata": {},
   "source": [
    "## Tarefa 3: Derivada total\n",
    "\n",
    "Outra operação que a Transformada de Fourier nos permite fazer é calcular derivadas dos nossos dados. Uma transformação muito utilizada na magnetometria é a Derivada Total (DT):\n",
    "\n",
    "$$\n",
    "DT = \\sqrt{\\left(\\frac{\\partial T}{\\partial x}\\right)^2 + \\left(\\frac{\\partial T}{\\partial y}\\right)^2 + \\left(\\frac{\\partial T}{\\partial z}\\right)^2}\n",
    "$$\n",
    "\n",
    "A DT é famosa por concentrar a anomalia magnética de campo total sobre o corpo causador da anomalia.\n"
   ]
  },
  {
   "cell_type": "markdown",
   "metadata": {},
   "source": [
    "**Rode a célula abaixo para gerar uma figura interativa.**"
   ]
  },
  {
   "cell_type": "code",
   "execution_count": null,
   "metadata": {
    "collapsed": false
   },
   "outputs": [],
   "source": [
    "shape = (100, 100)\n",
    "x, y, z = gridder.regular((-5000, 5000, -5000, 5000), shape, z=0)\n",
    "dx, dy = 500, 5000\n",
    "cubo = mesher.Prism(-dy/2, dy/2, -dx/2, dx/2, 400, 4000)\n",
    "cubo_area = cubo.get_bounds()[:4][::-1]\n",
    "def derivada_total(inc, dec, erro):\n",
    "    tf = prism.tf(x, y, z, [cubo], inc, dec, pmag=utils.ang2vec(1, inc, dec))\n",
    "    if erro > 0:\n",
    "        tf = utils.contaminate(tf, erro, seed=0)\n",
    "    total = fourier.ansig(x, y, tf, shape)\n",
    "    fig, axes = mpl.subplots(1, 2, figsize=(14, 6))\n",
    "    for ax, data, title in zip(axes.ravel(), [tf, total], ['Anomalia', 'Derivada Total']):\n",
    "        ax.set_aspect('equal')\n",
    "        mpl.sca(ax)\n",
    "        mpl.title(title)\n",
    "        mpl.square(cubo_area)\n",
    "        scale = np.abs([data.min(), data.max()]).max()\n",
    "        mpl.contourf(y, x, data, shape, 30, cmap=mpl.cm.RdBu_r, vmin=-scale, vmax=scale)\n",
    "        if title != \"Anomalia\":\n",
    "            mpl.colorbar(pad=0).set_label('nT/m')\n",
    "        else:\n",
    "            mpl.colorbar(pad=0).set_label('nT')                \n",
    "        mpl.m2km()\n",
    "    mpl.tight_layout(h_pad=0, w_pad=0)    \n",
    "widgets.interactive(derivada_total, \n",
    "                    inc=widgets.IntSliderWidget(min=-90, max=90, step=5, value=45),\n",
    "                    dec=widgets.IntSliderWidget(min=-90, max=90, step=5, value=0),\n",
    "                    erro=widgets.FloatSliderWidget(min=0, max=20, step=1, value=0))"
   ]
  },
  {
   "cell_type": "markdown",
   "metadata": {},
   "source": [
    "### Sobre a figura\n",
    "\n",
    "* A figura da **esquerda** mostra a anomalia magnética de campo total causada por um paralelepípedo (contorno preto).\n",
    "* A figura da **direita** mostra a derivada total (DT) da anomalia da esquerda calculada com a Transformada de Fourier.\n",
    "* Os **botões** controlam a inclinação e declinação do campo da Terra (`inc` e `dec`) e o erro colocado nos dados originais (da esquerda).\n",
    "\n",
    "### Tarefas e perguntas\n",
    "\n",
    "1. Mantenha a inclinação em 45º e declinação em 0. Aumente o erro aplicado aos dados.\n",
    "    * O que acontece com a Derivada Total quando o erro aumenta? Por que acontece isso? Dica: olhe as equações acima.\n",
    "2. Varie a inclinação e a declinação.\n",
    "    * A DT varia com a inclinação?\n",
    "    * A DT continua concentrada em cima do corpo para qualquer inclinação?\n",
    "    * Se a inclinação for 0, o que acontece com a DT quando a declinação varia até $\\pm90$?"
   ]
  }
 ],
 "metadata": {
  "kernelspec": {
   "display_name": "Python 2",
   "language": "python",
   "name": "python2"
  },
  "language_info": {
   "codemirror_mode": {
    "name": "ipython",
    "version": 2
   },
   "file_extension": ".py",
   "mimetype": "text/x-python",
   "name": "python",
   "nbconvert_exporter": "python",
   "pygments_lexer": "ipython2",
   "version": "2.7.10"
  }
 },
 "nbformat": 4,
 "nbformat_minor": 0
}
